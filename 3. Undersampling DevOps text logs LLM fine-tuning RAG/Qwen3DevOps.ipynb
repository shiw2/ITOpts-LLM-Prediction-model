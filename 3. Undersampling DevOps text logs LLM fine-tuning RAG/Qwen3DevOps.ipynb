{
 "cells": [
  {
   "cell_type": "markdown",
   "id": "2bb7dcf6",
   "metadata": {},
   "source": [
    "# Data Preprocess"
   ]
  },
  {
   "cell_type": "code",
   "execution_count": 1,
   "id": "4980221d",
   "metadata": {},
   "outputs": [
    {
     "name": "stdout",
     "output_type": "stream",
     "text": [
      "Data merge successful, total 15921814 records\n",
      "Abnormal ratio: 0.57%, Warning ratio: 6.32%, Normal: 14824942, Warning: 1006779, Abnormal: 90093\n",
      "Number of training samples: 1500\n",
      "Number of test samples: 1000\n",
      "Train set label counts:\n",
      "label\n",
      "warning     500\n",
      "normal      500\n",
      "abnormal    500\n",
      "Name: count, dtype: int64\n",
      "Test set label counts:\n",
      "label\n",
      "normal      932\n",
      "warning      65\n",
      "abnormal      3\n",
      "Name: count, dtype: int64\n"
     ]
    }
   ],
   "source": [
    "import pandas as pd\n",
    "import re\n",
    "import os\n",
    "\n",
    "# Merge \n",
    "folder = \"data/sourcedata\"\n",
    "files = [os.path.join(folder, f) for f in os.listdir(folder) if f.startswith(\"messages-\")]\n",
    "records = []\n",
    "for f in files:\n",
    "    with open(f, 'r', encoding='utf-8') as fh:\n",
    "        for line in fh:\n",
    "            ts, host, text = line.strip().split(' ', 2)\n",
    "            records.append({'timestamp': ts, 'host': host, 'text': text})\n",
    "\n",
    "df = pd.DataFrame(records)\n",
    "print(f\"Data merge successful, total {len(df)} records\")\n",
    "\n",
    "# Label (normal/abnormal/warning)\n",
    "def label_fn(txt):\n",
    "    if re.search(r'(?i)error', txt):\n",
    "        return 'abnormal'\n",
    "    elif re.search(r'(?i)(alert|fail|warning)', txt):\n",
    "        return 'warning'\n",
    "    else:\n",
    "        return 'normal'\n",
    "\n",
    "df['label'] = df['text'].apply(label_fn)\n",
    "\n",
    "# Statistics for normal, abnormal, and warning\n",
    "total = len(df)\n",
    "n_abnormal = (df['label'] == 'abnormal').sum()\n",
    "n_warning = (df['label'] == 'warning').sum()\n",
    "n_normal = (df['label'] == 'normal').sum()\n",
    "abnormal_ratio = n_abnormal / total if total > 0 else 0\n",
    "warning_ratio = n_warning / total if total > 0 else 0\n",
    "\n",
    "print(f\"Abnormal ratio: {abnormal_ratio:.2%}, Warning ratio: {warning_ratio:.2%}, Normal: {n_normal}, Warning: {n_warning}, Abnormal: {n_abnormal}\")\n",
    "\n",
    "# 按时间排序\n",
    "df = df.sort_values(by='timestamp').reset_index(drop=True)\n",
    "\n",
    "# 下采样参数\n",
    "n_per_class = 500\n",
    "\n",
    "# 下采样各类别\n",
    "abnormal = df[df['label'] == 'abnormal']\n",
    "warning = df[df['label'] == 'warning']\n",
    "normal = df[df['label'] == 'normal']\n",
    "\n",
    "abnormal_sample = abnormal.sample(n=min(n_per_class, len(abnormal)), random_state=42)\n",
    "warning_sample = warning.sample(n=min(n_per_class, len(warning)), random_state=42)\n",
    "normal_sample = normal.sample(n=min(n_per_class, len(normal)), random_state=42)\n",
    "\n",
    "# 合并训练集并打乱\n",
    "train_df = pd.concat([normal_sample, abnormal_sample, warning_sample]).sample(frac=1, random_state=42).reset_index(drop=True)\n",
    "\n",
    "# 剩余数据作为测试集候选\n",
    "remaining_df = df.drop(train_df.index).reset_index(drop=True)\n",
    "n_test = min(1000, len(remaining_df))\n",
    "test_df = remaining_df.sample(n=n_test, replace=False, random_state=42).reset_index(drop=True)\n",
    "\n",
    "print(f\"Number of training samples: {len(train_df)}\")\n",
    "print(f\"Number of test samples: {len(test_df)}\")\n",
    "\n",
    "os.makedirs('data/sampledatasets', exist_ok=True)\n",
    "train_df.to_json('data/sampledatasets/messages-train.jsonl', orient='records', lines=True, force_ascii=False)\n",
    "test_df.to_json('data/sampledatasets/messages-test.jsonl', orient='records', lines=True, force_ascii=False)\n",
    "\n",
    "print(\"Train set label counts:\")\n",
    "print(train_df['label'].value_counts())\n",
    "print(\"Test set label counts:\")\n",
    "print(test_df['label'].value_counts())"
   ]
  },
  {
   "cell_type": "code",
   "execution_count": 2,
   "id": "63b879e8",
   "metadata": {},
   "outputs": [
    {
     "name": "stdout",
     "output_type": "stream",
     "text": [
      "Normal:\n",
      "2025-05-25T03:49:02.962309+08:00 hivenode02 infinity[2781294]: monitor net list is null\n",
      "2025-05-25T03:49:03.441086+08:00 hivenode02 xinetd[4580]: START: mysql_status pid=1221371 from=::ffff:10.108.196.201\n",
      "\n",
      "Warning:\n",
      "2025-05-25T03:49:02.829892+08:00 hivenode02 logrotate: ALERT exited abnormally with [1]\n",
      "2025-05-25T03:49:05.574724+08:00 hivenode02 python: /usr/lib/python2.7/site-packages/celery/platforms.py:796: RuntimeWarning: You're running the worker with superuser privileges: this is\n",
      "\n",
      "Abnormal:\n",
      "2025-05-25T03:49:03.607982+08:00 hivenode02 named[7310]: error (network unreachable) resolving 'clients1.google.com/A/IN': 2001:7fd::1#53\n",
      "2025-05-25T03:49:04.303444+08:00 hivenode02 named[7310]: error (network unreachable) resolving './NS/IN': 2001:500:2f::f#53\n"
     ]
    }
   ],
   "source": [
    "import pandas as pd\n",
    "import re\n",
    "\n",
    "# Try to read as plain text and print a few lines for inspection\n",
    "with open(\"data/sourcedata/messages-20250602\", \"r\", encoding=\"utf-8\") as f:\n",
    "\tlines = f.readlines()\n",
    "\n",
    "# 打印normal, warning, abnormal内容各2条（过滤掉包含网址的行）\n",
    "\n",
    "def label_fn(txt):\n",
    "    if re.search(r'(?i)error', txt):\n",
    "        return 'abnormal'\n",
    "    elif re.search(r'(?i)(alert|fail|warning)', txt):\n",
    "        return 'warning'\n",
    "    else:\n",
    "        return 'normal'\n",
    "\n",
    "def has_url(s):\n",
    "    return bool(re.search(r'https?://|www\\.', s))\n",
    "\n",
    "normal_lines = []\n",
    "warning_lines = []\n",
    "abnormal_lines = []\n",
    "\n",
    "for line in lines:\n",
    "    if has_url(line):\n",
    "        continue\n",
    "    label = label_fn(line)\n",
    "    if label == 'normal' and len(normal_lines) < 2:\n",
    "        normal_lines.append(line.strip())\n",
    "    elif label == 'warning' and len(warning_lines) < 2:\n",
    "        warning_lines.append(line.strip())\n",
    "    elif label == 'abnormal' and len(abnormal_lines) < 2:\n",
    "        abnormal_lines.append(line.strip())\n",
    "    if len(normal_lines) == 2 and len(warning_lines) == 2 and len(abnormal_lines) == 2:\n",
    "        break\n",
    "\n",
    "print(\"Normal:\")\n",
    "for l in normal_lines:\n",
    "    print(l)\n",
    "print(\"\\nWarning:\")\n",
    "for l in warning_lines:\n",
    "    print(l)\n",
    "print(\"\\nAbnormal:\")\n",
    "for l in abnormal_lines:\n",
    "    print(l)"
   ]
  },
  {
   "cell_type": "code",
   "execution_count": 3,
   "id": "8c6d9e83",
   "metadata": {},
   "outputs": [
    {
     "name": "stdout",
     "output_type": "stream",
     "text": [
      "                            timestamp        host  \\\n",
      "2    2025-05-28 22:11:48.963670+08:00  hivenode02   \n",
      "3    2025-05-29 08:18:00.546461+08:00  hivenode02   \n",
      "4    2025-05-16 09:21:47.780379+08:00  hivenode02   \n",
      "9    2025-05-13 15:42:09.094117+08:00  hivenode02   \n",
      "14   2025-05-15 11:15:04.157428+08:00  hivenode02   \n",
      "...                               ...         ...   \n",
      "1483 2025-05-17 01:50:43.113434+08:00  hivenode02   \n",
      "1487 2025-05-18 22:53:32.581086+08:00  hivenode02   \n",
      "1489 2025-05-17 14:37:06.078631+08:00  hivenode02   \n",
      "1491 2025-05-13 01:09:26.753736+08:00  hivenode02   \n",
      "1492 2025-05-24 19:12:44.584002+08:00  hivenode02   \n",
      "\n",
      "                                                   text   label  \n",
      "2     python: .> infinity_queue   exchange=infinity_...  normal  \n",
      "3     xinetd[4580]: START: mysql_status pid=2044170 ...  normal  \n",
      "4     xinetd[4580]: START: mysql_status pid=2847661 ...  normal  \n",
      "9     xinetd[4580]: START: mysql_status pid=3604329 ...  normal  \n",
      "14      systemd: Starting Session 1412772 of user root.  normal  \n",
      "...                                                 ...     ...  \n",
      "1483    systemd: Starting Session 1500611 of user root.  normal  \n",
      "1487                    python: -------------- [queues]  normal  \n",
      "1489                            python: ---- **** -----  normal  \n",
      "1491                 kill: kill: cannot find process \"\"  normal  \n",
      "1492                 kill: kill: cannot find process \"\"  normal  \n",
      "\n",
      "[500 rows x 4 columns]\n",
      "                            timestamp        host  \\\n",
      "0    2025-05-26 13:57:00.564511+08:00  hivenode02   \n",
      "1    2025-05-23 13:57:06.994213+08:00  hivenode02   \n",
      "6    2025-05-30 14:02:36.384502+08:00  hivenode02   \n",
      "8    2025-05-27 11:15:29.114946+08:00  hivenode02   \n",
      "11   2025-05-21 14:08:40.870582+08:00  hivenode02   \n",
      "...                               ...         ...   \n",
      "1494 2025-05-13 00:15:26.177845+08:00  hivenode02   \n",
      "1495 2025-05-12 13:51:17.681204+08:00  hivenode02   \n",
      "1496 2025-05-25 20:45:33.828621+08:00  hivenode02   \n",
      "1498 2025-05-16 08:13:49.114459+08:00  hivenode02   \n",
      "1499 2025-05-16 03:09:55.378304+08:00  hivenode02   \n",
      "\n",
      "                                                   text    label  \n",
      "0     systemd: infi-celery.service: main process exi...  warning  \n",
      "1     python: /usr/lib/python2.7/site-packages/celer...  warning  \n",
      "6     python: /usr/lib/python2.7/site-packages/celer...  warning  \n",
      "8     systemd: Unit infi-celery.service entered fail...  warning  \n",
      "11    python: /usr/lib/python2.7/site-packages/celer...  warning  \n",
      "...                                                 ...      ...  \n",
      "1494  systemd: infi-celery.service: main process exi...  warning  \n",
      "1495  systemd: infi-celery.service: main process exi...  warning  \n",
      "1496  systemd: Unit infi-celery.service entered fail...  warning  \n",
      "1498               systemd: infi-celery.service failed.  warning  \n",
      "1499               systemd: infi-celery.service failed.  warning  \n",
      "\n",
      "[500 rows x 4 columns]\n",
      "                            timestamp        host  \\\n",
      "5    2025-05-18 04:10:13.778082+08:00  hivenode02   \n",
      "7    2025-05-20 08:36:49.131212+08:00  hivenode02   \n",
      "10   2025-05-18 08:03:08.147740+08:00  hivenode02   \n",
      "12   2025-05-16 14:11:42.213697+08:00  hivenode02   \n",
      "17   2025-05-16 14:11:14.237617+08:00  hivenode02   \n",
      "...                               ...         ...   \n",
      "1475 2025-05-25 16:26:53.004002+08:00  hivenode02   \n",
      "1478 2025-05-15 17:57:22.138957+08:00  hivenode02   \n",
      "1481 2025-05-22 08:53:14.261951+08:00  hivenode02   \n",
      "1484 2025-05-30 02:26:10.773642+08:00  hivenode02   \n",
      "1497 2025-05-20 08:27:39.960535+08:00  hivenode02   \n",
      "\n",
      "                                                   text     label  \n",
      "5     named[7310]: error (network unreachable) resol...  abnormal  \n",
      "7     named[7310]: error (network unreachable) resol...  abnormal  \n",
      "10    named[7310]: error (network unreachable) resol...  abnormal  \n",
      "12    named[7310]: error (network unreachable) resol...  abnormal  \n",
      "17    named[7310]: error (network unreachable) resol...  abnormal  \n",
      "...                                                 ...       ...  \n",
      "1475  infinity[2186405]: an error occurred while req...  abnormal  \n",
      "1478  infinity[375281]: an error occurred while requ...  abnormal  \n",
      "1481  infinity[3071145]: an error occurred while req...  abnormal  \n",
      "1484  infinity[8164]: an error occurred while reques...  abnormal  \n",
      "1497  named[7310]: error (network unreachable) resol...  abnormal  \n",
      "\n",
      "[500 rows x 4 columns]\n",
      "                           timestamp        host  \\\n",
      "0   2025-05-29 19:47:20.972569+08:00  hivenode02   \n",
      "1   2025-06-01 13:14:05.130320+08:00  hivenode02   \n",
      "2   2025-06-01 23:37:09.885955+08:00  hivenode02   \n",
      "3   2025-05-27 16:05:58.254819+08:00  hivenode02   \n",
      "5   2025-05-24 11:02:43.517305+08:00  hivenode02   \n",
      "..                               ...         ...   \n",
      "995 2025-05-19 14:56:18.906172+08:00  hivenode02   \n",
      "996 2025-05-15 05:44:02.990573+08:00  hivenode02   \n",
      "997 2025-05-24 08:05:59.399079+08:00  hivenode02   \n",
      "998 2025-05-31 21:15:00.162613+08:00  hivenode02   \n",
      "999 2025-05-28 15:53:37.298268+08:00  hivenode02   \n",
      "\n",
      "                                                  text   label  \n",
      "0                              python: ---- **** -----  normal  \n",
      "1                      python: -------------- [queues]  normal  \n",
      "2             systemd-logind: Removed session 2377139.  normal  \n",
      "3    systemd-logind: New session 2082894 of user root.  normal  \n",
      "5    python: - *** --- * --- .> concurrency: 4 (pre...  normal  \n",
      "..                                                 ...     ...  \n",
      "995  systemd: Starting Infinity Celery Worker Servi...  normal  \n",
      "996                    python: -------------- [queues]  normal  \n",
      "997     systemd: Started Session 1902760 of user root.  normal  \n",
      "998                   python: - ** ---------- [config]  normal  \n",
      "999                    python: -------------- [queues]  normal  \n",
      "\n",
      "[932 rows x 4 columns]\n",
      "                           timestamp        host  \\\n",
      "4   2025-05-15 03:52:05.365391+08:00  hivenode02   \n",
      "14  2025-05-15 20:01:33.400079+08:00  hivenode02   \n",
      "47  2025-05-16 02:50:20.884574+08:00  hivenode02   \n",
      "52  2025-05-26 13:56:44.255845+08:00  hivenode02   \n",
      "60  2025-05-20 21:16:57.617397+08:00  hivenode02   \n",
      "..                               ...         ...   \n",
      "934 2025-05-26 07:52:28.108324+08:00  hivenode02   \n",
      "945 2025-05-29 20:35:40.708509+08:00  hivenode02   \n",
      "948 2025-05-14 02:32:03.730987+08:00  hivenode02   \n",
      "982 2025-05-18 23:40:43.612389+08:00  hivenode02   \n",
      "989 2025-05-20 13:59:20.121121+08:00  hivenode02   \n",
      "\n",
      "                                                  text    label  \n",
      "4    systemd: infi-celery.service: main process exi...  warning  \n",
      "14                systemd: infi-celery.service failed.  warning  \n",
      "47   systemd: infi-celery.service: main process exi...  warning  \n",
      "52   python: /usr/lib/python2.7/site-packages/celer...  warning  \n",
      "60   python: /usr/lib/python2.7/site-packages/celer...  warning  \n",
      "..                                                 ...      ...  \n",
      "934  systemd: infi-celery.service: main process exi...  warning  \n",
      "945  systemd: infi-celery.service: main process exi...  warning  \n",
      "948  python: /usr/lib/python2.7/site-packages/celer...  warning  \n",
      "982  python: /usr/lib/python2.7/site-packages/celer...  warning  \n",
      "989               systemd: infi-celery.service failed.  warning  \n",
      "\n",
      "[65 rows x 4 columns]\n",
      "                           timestamp        host  \\\n",
      "473 2025-05-24 22:48:54.840339+08:00  hivenode02   \n",
      "611 2025-05-22 15:16:29.157156+08:00  hivenode02   \n",
      "799 2025-05-29 01:59:11.608435+08:00  hivenode02   \n",
      "\n",
      "                                                  text     label  \n",
      "473  infinity[1851450]: an error occurred while req...  abnormal  \n",
      "611  infinity[3525931]: an error occurred while req...  abnormal  \n",
      "799  named[7310]: error (network unreachable) resol...  abnormal  \n"
     ]
    }
   ],
   "source": [
    "import pandas as pd\n",
    "\n",
    "df = pd.read_json(\"data/sampledatasets/messages-train.jsonl\", lines=True)\n",
    "print(df[df['label'] == 'normal'])\n",
    "print(df[df['label'] == 'warning'])\n",
    "print(df[df['label'] == 'abnormal'])\n",
    "\n",
    "df = pd.read_json(\"data/sampledatasets/messages-test.jsonl\", lines=True)\n",
    "print(df[df['label'] == 'normal'])\n",
    "print(df[df['label'] == 'warning'])\n",
    "print(df[df['label'] == 'abnormal'])"
   ]
  },
  {
   "cell_type": "markdown",
   "id": "7d4f6001",
   "metadata": {},
   "source": [
    "# LLM & Fine-Tunning & RAG"
   ]
  },
  {
   "cell_type": "code",
   "execution_count": null,
   "id": "eb7aa98f",
   "metadata": {},
   "outputs": [
    {
     "data": {
      "application/vnd.jupyter.widget-view+json": {
       "model_id": "1fde7290caa24ff4bfcb60a0968fcaed",
       "version_major": 2,
       "version_minor": 0
      },
      "text/plain": [
       "Map:   0%|          | 0/1500 [00:00<?, ? examples/s]"
      ]
     },
     "metadata": {},
     "output_type": "display_data"
    },
    {
     "data": {
      "application/vnd.jupyter.widget-view+json": {
       "model_id": "5fd3cff8783346a29a3477e44a4dadec",
       "version_major": 2,
       "version_minor": 0
      },
      "text/plain": [
       "Map:   0%|          | 0/1000 [00:00<?, ? examples/s]"
      ]
     },
     "metadata": {},
     "output_type": "display_data"
    },
    {
     "name": "stderr",
     "output_type": "stream",
     "text": [
      "Some weights of Qwen3ForSequenceClassification were not initialized from the model checkpoint at Qwen/Qwen3-0.6B and are newly initialized: ['score.weight']\n",
      "You should probably TRAIN this model on a down-stream task to be able to use it for predictions and inference.\n",
      "C:\\Users\\weish\\AppData\\Local\\Temp\\ipykernel_28336\\2375169131.py:237: FutureWarning: `tokenizer` is deprecated and will be removed in version 5.0.0 for `WeightedTrainer.__init__`. Use `processing_class` instead.\n",
      "  trainer = WeightedTrainer(\n",
      "No label_names provided for model class `PeftModel`. Since `PeftModel` hides base models input arguments, if label_names is not given, label_names can't be set automatically within `Trainer`. Note that empty label_names list will be used instead.\n"
     ]
    },
    {
     "name": "stdout",
     "output_type": "stream",
     "text": [
      "初始化Trainer...\n",
      "训练数据集大小: 1500\n",
      "测试数据集大小: 1000\n",
      "数据集列: ['timestamp', 'host', 'text', 'labels', 'input_ids', 'attention_mask']\n",
      "样本批次键: dict_keys(['labels', 'input_ids', 'attention_mask'])\n",
      "labels shape: torch.Size([2])\n",
      "input_ids shape: torch.Size([2, 128])\n",
      "attention_mask shape: torch.Size([2, 128])\n",
      "测试compute_metrics函数...\n",
      "Debug: predictions shape: (4, 3)\n",
      "Debug: labels shape: (4,)\n",
      "Debug: computed metrics: {'accuracy': 0.0, 'f1': 0.0, 'precision': 0.0, 'recall': 0.0}\n",
      "compute_metrics测试成功: {'accuracy': 0.0, 'f1': 0.0, 'precision': 0.0, 'recall': 0.0}\n",
      "开始训练...\n"
     ]
    },
    {
     "data": {
      "text/html": [
       "\n",
       "    <div>\n",
       "      \n",
       "      <progress value='564' max='564' style='width:300px; height:20px; vertical-align: middle;'></progress>\n",
       "      [564/564 05:26, Epoch 3/3]\n",
       "    </div>\n",
       "    <table border=\"1\" class=\"dataframe\">\n",
       "  <thead>\n",
       " <tr style=\"text-align: left;\">\n",
       "      <th>Step</th>\n",
       "      <th>Training Loss</th>\n",
       "      <th>Validation Loss</th>\n",
       "    </tr>\n",
       "  </thead>\n",
       "  <tbody>\n",
       "    <tr>\n",
       "      <td>100</td>\n",
       "      <td>1.531200</td>\n",
       "      <td>No log</td>\n",
       "    </tr>\n",
       "    <tr>\n",
       "      <td>200</td>\n",
       "      <td>0.286300</td>\n",
       "      <td>No log</td>\n",
       "    </tr>\n",
       "    <tr>\n",
       "      <td>300</td>\n",
       "      <td>0.095400</td>\n",
       "      <td>No log</td>\n",
       "    </tr>\n",
       "    <tr>\n",
       "      <td>400</td>\n",
       "      <td>0.028800</td>\n",
       "      <td>No log</td>\n",
       "    </tr>\n",
       "    <tr>\n",
       "      <td>500</td>\n",
       "      <td>0.007400</td>\n",
       "      <td>No log</td>\n",
       "    </tr>\n",
       "  </tbody>\n",
       "</table><p>"
      ],
      "text/plain": [
       "<IPython.core.display.HTML object>"
      ]
     },
     "metadata": {},
     "output_type": "display_data"
    },
    {
     "name": "stdout",
     "output_type": "stream",
     "text": [
      "开始评估...\n",
      "RAG预测结果:\n",
      "Accuracy: 0.9330\n",
      "F1 Score: 0.9016\n",
      "Precision: 0.9345\n",
      "Recall: 0.9330\n",
      "\n",
      "混淆矩阵:\n",
      "[[932   0   0]\n",
      " [ 64   1   0]\n",
      " [  3   0   0]]\n",
      "\n",
      "标签映射: {0: 'normal', 1: 'warning', 2: 'abnormal'}\n",
      "normal 类准确率: 1.0000\n",
      "warning 类准确率: 0.0154\n",
      "abnormal 类准确率: 0.0000\n"
     ]
    },
    {
     "name": "stderr",
     "output_type": "stream",
     "text": [
      "d:\\anaconda3\\envs\\Qwen3DevOps\\Lib\\site-packages\\sklearn\\metrics\\_classification.py:1565: UndefinedMetricWarning: Precision is ill-defined and being set to 0.0 in labels with no predicted samples. Use `zero_division` parameter to control this behavior.\n",
      "  _warn_prf(average, modifier, f\"{metric.capitalize()} is\", len(result))\n"
     ]
    }
   ],
   "source": [
    "import pandas as pd\n",
    "import numpy as np\n",
    "import torch\n",
    "import torch.nn as nn\n",
    "from transformers import (\n",
    "    AutoTokenizer,\n",
    "    AutoModel,\n",
    "    Trainer,\n",
    "    TrainingArguments,\n",
    "    EarlyStoppingCallback\n",
    ")\n",
    "from peft import LoraConfig, get_peft_model\n",
    "from sklearn.metrics import accuracy_score, f1_score, precision_score, recall_score, confusion_matrix\n",
    "from sklearn.metrics.pairwise import cosine_similarity\n",
    "# from sklearn.utils.class_weight import compute_class_weight\n",
    "from datasets import Dataset\n",
    "from sentence_transformers import SentenceTransformer\n",
    "import faiss\n",
    "\n",
    "# 1. Data Loading\n",
    "train_df = pd.read_json('data/sampledatasets/messages-train.jsonl', lines=True)\n",
    "test_df = pd.read_json('data/sampledatasets/messages-test.jsonl', lines=True)\n",
    "\n",
    "# Label mapping\n",
    "# label_to_id = {'normal': 0, 'warning': 1, 'abnormal': 2}\n",
    "# id_to_label = {v: k for k, v in label_to_id.items()}\n",
    "# for df in (train_df, test_df):\n",
    "#    if df['label'].dtype == 'object':\n",
    "#        df['label'] = df['label'].map(label_to_id)\n",
    "# num_labels = len(label_to_id)\n",
    "\n",
    "# Class weights\n",
    "# y = train_df['label'].values\n",
    "# classes = np.unique(y)\n",
    "# weights = compute_class_weight('balanced', classes=classes, y=y)\n",
    "# weights = weights * np.array([1.0, 5.0, 10.0])\n",
    "# class_weights = torch.tensor(weights, dtype=torch.float).to('cuda')\n",
    "\n",
    "# 2. Label Embeddings\n",
    "embedder = SentenceTransformer('sentence-transformers/all-MiniLM-L6-v2')\n",
    "\n",
    "unique_labels = train_df['label'].unique().tolist()\n",
    "print(f\"Found labels: {unique_labels}\")\n",
    "\n",
    "# labels --> embeddings\n",
    "label_embeddings = embedder.encode(unique_labels)\n",
    "embedding_dim = label_embeddings.shape[1]\n",
    "\n",
    "# Mapping labels --> embeddings\n",
    "label_to_embedding = {label: label_embeddings[i] for i, label in enumerate(unique_labels)}\n",
    "# Mapping embeddings --> labels\n",
    "embedding_to_label = {tuple(emb): label for label, emb in label_to_embedding.items()}\n",
    "\n",
    "# 3. Build FAISS index for RAG KB\n",
    "kb = [\n",
    "    {\"text\": item['text'], \"solution\": item['solution']} \n",
    "    for item in [\n",
    "        {\n",
    "        \"text\": \"systemd: infi-celery.service: main process exited, code=exited, status=1/FAILURE\",\n",
    "        \"solution\": \"Check the infi-celery service log, verify configuration and dependencies, and try restarting the service.\"\n",
    "    },\n",
    "    {\n",
    "        \"text\": \"systemd: infi-celery.service holdoff time over, scheduling restart.\",\n",
    "        \"solution\": \"The service will automatically restart after an exception. Investigate the root cause of the abnormal exit.\"\n",
    "    },\n",
    "    {\n",
    "        \"text\": \"systemd: infi-celery.service: control process exited, code=exited status=1\",\n",
    "        \"solution\": \"Check the control process log and verify service configuration and permissions.\"\n",
    "    },\n",
    "    {\n",
    "        \"text\": \"systemd: Started Infinity Celery Worker Service.\",\n",
    "        \"solution\": \"The service started successfully. No action required.\"\n",
    "    },\n",
    "    {\n",
    "        \"text\": \"systemd-logind: Removed session\",\n",
    "        \"solution\": \"User session was removed. This is usually a normal operation.\"\n",
    "    },\n",
    "    {\n",
    "        \"text\": \"xinetd[4580]: EXIT: mysql_status status=0\",\n",
    "        \"solution\": \"MySQL status check is normal. No action required.\"\n",
    "    },\n",
    "    {\n",
    "        \"text\": \"xinetd[4580]: EXIT: zk_status status=0\",\n",
    "        \"solution\": \"Zookeeper status check is normal. No action required.\"\n",
    "    },\n",
    "    {\n",
    "        \"text\": \"python: /usr/lib/python2.7/site-packages/celery/platforms.py:796: RuntimeWarning: You're running the worker with superuser privileges: this is\",\n",
    "        \"solution\": \"It is not recommended to run celery worker as root. Please use a regular user.\"\n",
    "    },\n",
    "    {\n",
    "        \"text\": \"infinity[4139103]: an error occurred while requesting bindings <urlopen error [Errno 111] Connection refused>\",\n",
    "        \"solution\": \"Check network connectivity and ensure the target service port is open.\"\n",
    "    },\n",
    "    {\n",
    "        \"text\": \"kill: kill: cannot find process\",\n",
    "        \"solution\": \"The target process does not exist. Please verify the process ID.\"\n",
    "    }\n",
    "    ]\n",
    "]\n",
    "kb_texts = [entry['text'] for entry in kb]\n",
    "kb_embs = embedder.encode(kb_texts)\n",
    "dim = kb_embs.shape[1]\n",
    "index = faiss.IndexFlatL2(dim)\n",
    "index.add(kb_embs)\n",
    "\n",
    "def retrieve_solutions(text, k=3):\n",
    "    emb = embedder.encode([text])\n",
    "    D, I = index.search(np.array(emb), k)\n",
    "    return \" \".join(kb[i]['solution'] for i in I[0])\n",
    "\n",
    "# 4. Text --> Vector Model\n",
    "class VectorOutputModel(nn.Module):\n",
    "    def __init__(self, embedding_dim):\n",
    "        super(VectorOutputModel, self).__init__()\n",
    "        self.base_model = AutoModel.from_pretrained('sentence-transformers/all-MiniLM-L6-v2')\n",
    "        self.vector_head = nn.Linear(self.base_model.config.hidden_size, embedding_dim)\n",
    "        self.embedding_dim = embedding_dim\n",
    "        \n",
    "    def forward(self, input_ids=None, attention_mask=None, labels=None):\n",
    "        outputs = self.base_model(input_ids=input_ids, attention_mask=attention_mask)\n",
    "        pooled_output = outputs.last_hidden_state[:, 0, :]  # Use first token\n",
    "        vector_output = self.vector_head(pooled_output)\n",
    "        \n",
    "        batch_size = len(labels)\n",
    "        target_embeddings = torch.zeros(batch_size, self.embedding_dim).to(vector_output.device)\n",
    "            \n",
    "        for i, label_text in enumerate(labels):\n",
    "            if isinstance(label_text, torch.Tensor):\n",
    "                label_text = label_text.item() if label_text.numel() == 1 else str(label_text)\n",
    "            target_embeddings[i] = torch.tensor(label_to_embedding[str(label_text)]).to(vector_output.device)\n",
    "            \n",
    "            # Cos similarity loss (1 - cosine_similarity)\n",
    "        cos_sim = nn.functional.cosine_similarity(vector_output, target_embeddings, dim=1)\n",
    "        loss = 1 - cos_sim.mean()\n",
    "            \n",
    "        return {\"loss\": loss, \"logits\": vector_output}\n",
    "\n",
    "# 5. Prepare datasets\n",
    "d_train = Dataset.from_pandas(train_df)\n",
    "d_test = Dataset.from_pandas(test_df)\n",
    "\n",
    "tokenizer = AutoTokenizer.from_pretrained('Qwen/Qwen3-0.6B')\n",
    "if tokenizer.pad_token is None:\n",
    "    tokenizer.pad_token = tokenizer.eos_token\n",
    "\n",
    "# Tokenize function\n",
    "def tokenize_fn(examples):\n",
    "    return tokenizer(examples['text'], padding='max_length', truncation=True, max_length=128)\n",
    "\n",
    "# Rename & format\n",
    "d_train = d_train.rename_column('label', 'labels')\n",
    "d_test = d_test.rename_column('label', 'labels')\n",
    "for ds in (d_train, d_test):\n",
    "    ds.set_format('torch', columns=['input_ids', 'attention_mask', 'labels'])\n",
    "\n",
    "# 4. Model & LoRA setup\n",
    "model = AutoModelForSequenceClassification.from_pretrained(\n",
    "    'Qwen/Qwen3-0.6B', num_labels=num_labels\n",
    ")\n",
    "model.config.pad_token_id = tokenizer.pad_token_id\n",
    "\n",
    "lora_cfg = LoraConfig(\n",
    "    r=8,\n",
    "    lora_alpha=16,\n",
    "    target_modules=['q_proj', 'v_proj'],\n",
    "    lora_dropout=0.1,\n",
    "    bias='none'\n",
    ")\n",
    "model = get_peft_model(model, lora_cfg)\n",
    "model.to('cuda')\n",
    "\n",
    "# 5. 修复的Metrics函数\n",
    "def compute_metrics(eval_pred):\n",
    "    \"\"\"计算评估指标\"\"\"\n",
    "    try:\n",
    "        predictions, labels = eval_pred\n",
    "        print(f\"Debug: predictions shape: {predictions.shape if hasattr(predictions, 'shape') else type(predictions)}\")\n",
    "        print(f\"Debug: labels shape: {labels.shape if hasattr(labels, 'shape') else type(labels)}\")\n",
    "        \n",
    "        # 确保predictions是numpy数组\n",
    "        if isinstance(predictions, tuple):\n",
    "            predictions = predictions[0]\n",
    "        \n",
    "        # 转换为numpy数组\n",
    "        if not isinstance(predictions, np.ndarray):\n",
    "            predictions = np.array(predictions)\n",
    "        if not isinstance(labels, np.ndarray):\n",
    "            labels = np.array(labels)\n",
    "        \n",
    "        # 获取预测结果\n",
    "        predictions = np.argmax(predictions, axis=-1)\n",
    "        \n",
    "        # 计算指标\n",
    "        accuracy = accuracy_score(labels, predictions)\n",
    "        f1 = f1_score(labels, predictions, average='weighted', zero_division=0)\n",
    "        precision = precision_score(labels, predictions, average='weighted', zero_division=0)\n",
    "        recall = recall_score(labels, predictions, average='weighted', zero_division=0)\n",
    "        \n",
    "        result = {\n",
    "            'accuracy': float(accuracy),\n",
    "            'f1': float(f1),\n",
    "            'precision': float(precision),\n",
    "            'recall': float(recall)\n",
    "        }\n",
    "        \n",
    "        print(f\"Debug: computed metrics: {result}\")\n",
    "        return result\n",
    "        \n",
    "    except Exception as e:\n",
    "        print(f\"Error in compute_metrics: {e}\")\n",
    "        # 返回默认指标以避免训练中断\n",
    "        return {\n",
    "            'accuracy': 0.0,\n",
    "            'f1': 0.0,\n",
    "            'precision': 0.0,\n",
    "            'recall': 0.0\n",
    "        }\n",
    "\n",
    "# 6. Custom Trainer\n",
    "class WeightedTrainer(Trainer):\n",
    "    def compute_loss(self, model, inputs, return_outputs=False, num_items_in_batch=None):\n",
    "        labels = inputs['labels']\n",
    "        outputs = model(**inputs)\n",
    "        logits = outputs.logits\n",
    "        loss_fn = torch.nn.CrossEntropyLoss(weight=class_weights)\n",
    "        loss = loss_fn(logits, labels)\n",
    "        return (loss, outputs) if return_outputs else loss\n",
    "\n",
    "# 7. 修改后的Training Arguments - 使用更保守的设置\n",
    "training_args = TrainingArguments(\n",
    "    output_dir='./results',\n",
    "    per_device_train_batch_size=4,\n",
    "    per_device_eval_batch_size=4,\n",
    "    gradient_accumulation_steps=2,\n",
    "    learning_rate=1e-5,\n",
    "    weight_decay=0.01,\n",
    "    warmup_steps=100,\n",
    "    logging_dir='./logs',\n",
    "    logging_steps=10,\n",
    "    eval_strategy='steps',\n",
    "    eval_steps=100,\n",
    "    save_steps=100,\n",
    "    # 临时禁用最佳模型加载以避免指标问题\n",
    "    load_best_model_at_end=False,\n",
    "    # metric_for_best_model='eval_f1',  # 暂时注释掉\n",
    "    # greater_is_better=True,  # 暂时注释掉\n",
    "    fp16=True,\n",
    "    dataloader_drop_last=False,\n",
    "    # 确保评估数据集被使用\n",
    "    do_eval=True,\n",
    "    # 添加更多调试信息\n",
    "    report_to=None,  # 禁用wandb等报告\n",
    ")\n",
    "\n",
    "# 8. Initialize Trainer - 添加调试信息\n",
    "print(\"初始化Trainer...\")\n",
    "print(f\"训练数据集大小: {len(d_train)}\")\n",
    "print(f\"测试数据集大小: {len(d_test)}\")\n",
    "print(f\"数据集列: {d_train.column_names}\")\n",
    "\n",
    "# 检查数据集格式\n",
    "sample_batch = d_train[:2]\n",
    "print(f\"样本批次键: {sample_batch.keys()}\")\n",
    "for key, value in sample_batch.items():\n",
    "    if hasattr(value, 'shape'):\n",
    "        print(f\"{key} shape: {value.shape}\")\n",
    "    else:\n",
    "        print(f\"{key} type: {type(value)}\")\n",
    "\n",
    "trainer = WeightedTrainer(\n",
    "    model=model,\n",
    "    args=training_args,\n",
    "    train_dataset=d_train,\n",
    "    eval_dataset=d_test,\n",
    "    tokenizer=tokenizer,\n",
    "    compute_metrics=compute_metrics,\n",
    ")\n",
    "\n",
    "# 验证compute_metrics函数\n",
    "print(\"测试compute_metrics函数...\")\n",
    "try:\n",
    "    # 创建一个测试样本\n",
    "    test_logits = np.random.rand(4, num_labels)  # 4个样本，3个类别\n",
    "    test_labels = np.array([0, 1, 2, 1])\n",
    "    test_result = compute_metrics((test_logits, test_labels))\n",
    "    print(f\"compute_metrics测试成功: {test_result}\")\n",
    "except Exception as e:\n",
    "    print(f\"compute_metrics测试失败: {e}\")\n",
    "\n",
    "# 9. Train\n",
    "print(\"开始训练...\")\n",
    "trainer.train()\n",
    "\n",
    "# 10. RAG Inference\n",
    "def rag_predict(texts, model, tokenizer, k=3):\n",
    "    model.eval()\n",
    "    preds = []\n",
    "    for txt in texts:\n",
    "        context = retrieve_solutions(txt, k=k)\n",
    "        inp = tokenizer(f\"{txt} [CONTEXT] {context}\",\n",
    "                        return_tensors='pt',\n",
    "                        padding=True,\n",
    "                        truncation=True,\n",
    "                        max_length=128)\n",
    "        inp = {k: v.to('cuda') for k, v in inp.items()}\n",
    "        with torch.no_grad():\n",
    "            out = model(**inp)\n",
    "        pred = torch.argmax(out.logits, dim=-1).cpu().item()\n",
    "        preds.append(pred)\n",
    "    return preds\n",
    "\n",
    "# 11. 修复的评估部分\n",
    "print(\"开始评估...\")\n",
    "test_texts = test_df['text'].tolist()\n",
    "y_true = test_df['label'].tolist()\n",
    "\n",
    "# 使用RAG预测\n",
    "y_pred_rag = rag_predict(test_texts, model, tokenizer)\n",
    "\n",
    "# 计算指标\n",
    "accuracy = accuracy_score(y_true, y_pred_rag)\n",
    "f1 = f1_score(y_true, y_pred_rag, average='weighted')\n",
    "precision = precision_score(y_true, y_pred_rag, average='weighted')\n",
    "recall = recall_score(y_true, y_pred_rag, average='weighted')\n",
    "\n",
    "print(\"RAG预测结果:\")\n",
    "print(f\"Accuracy: {accuracy:.4f}\")\n",
    "print(f\"F1 Score: {f1:.4f}\")\n",
    "print(f\"Precision: {precision:.4f}\")\n",
    "print(f\"Recall: {recall:.4f}\")\n",
    "\n",
    "# 混淆矩阵\n",
    "cm = confusion_matrix(y_true, y_pred_rag)\n",
    "print(\"\\n混淆矩阵:\")\n",
    "print(cm)\n",
    "\n",
    "# 按类别显示结果\n",
    "print(f\"\\n标签映射: {id_to_label}\")\n",
    "for i, label in id_to_label.items():\n",
    "    mask = np.array(y_true) == i\n",
    "    if mask.sum() > 0:\n",
    "        class_acc = accuracy_score(np.array(y_true)[mask], np.array(y_pred_rag)[mask])\n",
    "        print(f\"{label} 类准确率: {class_acc:.4f}\")"
   ]
  },
  {
   "cell_type": "markdown",
   "id": "dce5dbbc",
   "metadata": {},
   "source": [
    "# SVM"
   ]
  },
  {
   "cell_type": "code",
   "execution_count": null,
   "id": "a31cd13e",
   "metadata": {},
   "outputs": [
    {
     "data": {
      "text/html": [
       "        <script type=\"text/javascript\">\n",
       "        window.PlotlyConfig = {MathJaxConfig: 'local'};\n",
       "        if (window.MathJax && window.MathJax.Hub && window.MathJax.Hub.Config) {window.MathJax.Hub.Config({SVG: {font: \"STIX-Web\"}});}\n",
       "        </script>\n",
       "        <script type=\"module\">import \"https://cdn.plot.ly/plotly-3.0.1.min\"</script>\n",
       "        "
      ]
     },
     "metadata": {},
     "output_type": "display_data"
    },
    {
     "name": "stderr",
     "output_type": "stream",
     "text": [
      "2025-06-17 11:21:33,839 - INFO - Loaded 1500 training samples and 1000 test samples\n",
      "2025-06-17 11:21:33,845 - INFO - Label mapping: {'abnormal': 0, 'normal': 1, 'warning': 2}\n",
      "2025-06-17 11:21:34,021 - INFO - collecting all words and their counts\n",
      "2025-06-17 11:21:34,021 - INFO - PROGRESS: at sentence #0, processed 0 words, keeping 0 word types\n",
      "2025-06-17 11:21:34,024 - INFO - collected 138 word types from a corpus of 12032 raw words and 2500 sentences\n",
      "2025-06-17 11:21:34,025 - INFO - Creating a fresh vocabulary\n",
      "2025-06-17 11:21:34,026 - INFO - Word2Vec lifecycle event {'msg': 'effective_min_count=1 retains 138 unique words (100.00% of original 138, drops 0)', 'datetime': '2025-06-17T11:21:34.026571', 'gensim': '4.3.3', 'python': '3.12.10 | packaged by conda-forge | (main, Apr 10 2025, 22:08:16) [MSC v.1943 64 bit (AMD64)]', 'platform': 'Windows-11-10.0.26100-SP0', 'event': 'prepare_vocab'}\n",
      "2025-06-17 11:21:34,027 - INFO - Word2Vec lifecycle event {'msg': 'effective_min_count=1 leaves 12032 word corpus (100.00% of original 12032, drops 0)', 'datetime': '2025-06-17T11:21:34.027563', 'gensim': '4.3.3', 'python': '3.12.10 | packaged by conda-forge | (main, Apr 10 2025, 22:08:16) [MSC v.1943 64 bit (AMD64)]', 'platform': 'Windows-11-10.0.26100-SP0', 'event': 'prepare_vocab'}\n",
      "2025-06-17 11:21:34,030 - INFO - deleting the raw counts dictionary of 138 items\n",
      "2025-06-17 11:21:34,031 - INFO - sample=0.001 downsamples 54 most-common words\n",
      "2025-06-17 11:21:34,032 - INFO - Word2Vec lifecycle event {'msg': 'downsampling leaves estimated 4171.431073806893 word corpus (34.7%% of prior 12032)', 'datetime': '2025-06-17T11:21:34.032564', 'gensim': '4.3.3', 'python': '3.12.10 | packaged by conda-forge | (main, Apr 10 2025, 22:08:16) [MSC v.1943 64 bit (AMD64)]', 'platform': 'Windows-11-10.0.26100-SP0', 'event': 'prepare_vocab'}\n",
      "2025-06-17 11:21:34,034 - INFO - estimated required memory for 138 words and 100 dimensions: 179400 bytes\n",
      "2025-06-17 11:21:34,034 - INFO - resetting layer weights\n",
      "2025-06-17 11:21:34,037 - INFO - Word2Vec lifecycle event {'update': False, 'trim_rule': 'None', 'datetime': '2025-06-17T11:21:34.036982', 'gensim': '4.3.3', 'python': '3.12.10 | packaged by conda-forge | (main, Apr 10 2025, 22:08:16) [MSC v.1943 64 bit (AMD64)]', 'platform': 'Windows-11-10.0.26100-SP0', 'event': 'build_vocab'}\n",
      "2025-06-17 11:21:34,037 - INFO - Word2Vec lifecycle event {'msg': 'training model with 4 workers on 138 vocabulary and 100 features, using sg=1 hs=0 sample=0.001 negative=5 window=5 shrink_windows=True', 'datetime': '2025-06-17T11:21:34.037979', 'gensim': '4.3.3', 'python': '3.12.10 | packaged by conda-forge | (main, Apr 10 2025, 22:08:16) [MSC v.1943 64 bit (AMD64)]', 'platform': 'Windows-11-10.0.26100-SP0', 'event': 'train'}\n",
      "2025-06-17 11:21:34,056 - INFO - EPOCH 0: training on 12032 raw words (4172 effective words) took 0.0s, 668890 effective words/s\n",
      "2025-06-17 11:21:34,069 - INFO - EPOCH 1: training on 12032 raw words (4158 effective words) took 0.0s, 817892 effective words/s\n",
      "2025-06-17 11:21:34,081 - INFO - EPOCH 2: training on 12032 raw words (4121 effective words) took 0.0s, 1682178 effective words/s\n",
      "2025-06-17 11:21:34,091 - INFO - EPOCH 3: training on 12032 raw words (4146 effective words) took 0.0s, 785957 effective words/s\n",
      "2025-06-17 11:21:34,104 - INFO - EPOCH 4: training on 12032 raw words (4082 effective words) took 0.0s, 992415 effective words/s\n",
      "2025-06-17 11:21:34,105 - INFO - Word2Vec lifecycle event {'msg': 'training on 60160 raw words (20679 effective words) took 0.1s, 309571 effective words/s', 'datetime': '2025-06-17T11:21:34.105237', 'gensim': '4.3.3', 'python': '3.12.10 | packaged by conda-forge | (main, Apr 10 2025, 22:08:16) [MSC v.1943 64 bit (AMD64)]', 'platform': 'Windows-11-10.0.26100-SP0', 'event': 'train'}\n",
      "2025-06-17 11:21:34,106 - INFO - Word2Vec lifecycle event {'params': 'Word2Vec<vocab=138, vector_size=100, alpha=0.025>', 'datetime': '2025-06-17T11:21:34.106244', 'gensim': '4.3.3', 'python': '3.12.10 | packaged by conda-forge | (main, Apr 10 2025, 22:08:16) [MSC v.1943 64 bit (AMD64)]', 'platform': 'Windows-11-10.0.26100-SP0', 'event': 'created'}\n",
      "2025-06-17 11:21:34,107 - INFO - Word2Vec model trained successfully\n",
      "2025-06-17 11:21:34,152 - INFO - Training features shape: (1500, 100), Test features shape: (1000, 100)\n",
      "2025-06-17 11:21:34,153 - INFO - Training SVM...\n",
      "2025-06-17 11:21:34,186 - INFO - Training KNN...\n"
     ]
    },
    {
     "name": "stdout",
     "output_type": "stream",
     "text": [
      "\n",
      "SVM Results:\n",
      "Accuracy: 0.9860\n",
      "F1 Score: 0.9865\n",
      "Precision: 0.9880\n",
      "Recall: 0.9860\n",
      "Confusion Matrix:\n",
      "[[  3   0   0]\n",
      " [  0 919  13]\n",
      " [  0   1  64]]\n",
      "Per-class accuracy for SVM:\n",
      "abnormal accuracy: 1.0000\n",
      "normal accuracy: 0.9861\n",
      "warning accuracy: 0.9846\n"
     ]
    },
    {
     "name": "stderr",
     "output_type": "stream",
     "text": [
      "2025-06-17 11:21:38,162 - INFO - Training RandomForest...\n"
     ]
    },
    {
     "name": "stdout",
     "output_type": "stream",
     "text": [
      "\n",
      "KNN Results:\n",
      "Accuracy: 0.9850\n",
      "F1 Score: 0.9858\n",
      "Precision: 0.9880\n",
      "Recall: 0.9850\n",
      "Confusion Matrix:\n",
      "[[  3   0   0]\n",
      " [  2 917  13]\n",
      " [  0   0  65]]\n",
      "Per-class accuracy for KNN:\n",
      "abnormal accuracy: 1.0000\n",
      "normal accuracy: 0.9839\n",
      "warning accuracy: 1.0000\n"
     ]
    },
    {
     "name": "stderr",
     "output_type": "stream",
     "text": [
      "2025-06-17 11:21:38,387 - INFO - Training ANN...\n"
     ]
    },
    {
     "name": "stdout",
     "output_type": "stream",
     "text": [
      "\n",
      "RandomForest Results:\n",
      "Accuracy: 0.9980\n",
      "F1 Score: 0.9980\n",
      "Precision: 0.9981\n",
      "Recall: 0.9980\n",
      "Confusion Matrix:\n",
      "[[  3   0   0]\n",
      " [  0 930   2]\n",
      " [  0   0  65]]\n",
      "Per-class accuracy for RandomForest:\n",
      "abnormal accuracy: 1.0000\n",
      "normal accuracy: 0.9979\n",
      "warning accuracy: 1.0000\n"
     ]
    },
    {
     "name": "stderr",
     "output_type": "stream",
     "text": [
      "2025-06-17 11:21:41,204 - INFO - Training DecisionTree...\n",
      "2025-06-17 11:21:41,214 - INFO - Training LogisticRegression...\n",
      "2025-06-17 11:21:41,251 - INFO - Generating Plotly Visualizations...\n"
     ]
    },
    {
     "name": "stdout",
     "output_type": "stream",
     "text": [
      "\n",
      "ANN Results:\n",
      "Accuracy: 0.9840\n",
      "F1 Score: 0.9848\n",
      "Precision: 0.9868\n",
      "Recall: 0.9840\n",
      "Confusion Matrix:\n",
      "[[  3   0   0]\n",
      " [  2 917  13]\n",
      " [  0   1  64]]\n",
      "Per-class accuracy for ANN:\n",
      "abnormal accuracy: 1.0000\n",
      "normal accuracy: 0.9839\n",
      "warning accuracy: 0.9846\n",
      "\n",
      "DecisionTree Results:\n",
      "Accuracy: 0.9950\n",
      "F1 Score: 0.9951\n",
      "Precision: 0.9954\n",
      "Recall: 0.9950\n",
      "Confusion Matrix:\n",
      "[[  3   0   0]\n",
      " [  0 927   5]\n",
      " [  0   0  65]]\n",
      "Per-class accuracy for DecisionTree:\n",
      "abnormal accuracy: 1.0000\n",
      "normal accuracy: 0.9946\n",
      "warning accuracy: 1.0000\n",
      "\n",
      "LogisticRegression Results:\n",
      "Accuracy: 0.8890\n",
      "F1 Score: 0.9104\n",
      "Precision: 0.9569\n",
      "Recall: 0.8890\n",
      "Confusion Matrix:\n",
      "[[  3   0   0]\n",
      " [  2 822 108]\n",
      " [  0   1  64]]\n",
      "Per-class accuracy for LogisticRegression:\n",
      "abnormal accuracy: 1.0000\n",
      "normal accuracy: 0.8820\n",
      "warning accuracy: 0.9846\n"
     ]
    },
    {
     "data": {
      "application/vnd.plotly.v1+json": {
       "config": {
        "plotlyServerURL": "https://plot.ly"
       },
       "data": [
        {
         "hovertemplate": "Accuracy: %{y:.4f}<extra></extra>",
         "marker": {
          "color": "royalblue"
         },
         "name": "Accuracy",
         "offset": -0.3,
         "opacity": 0.8,
         "type": "bar",
         "width": 0.2,
         "x": [
          "SVM",
          "KNN",
          "RandomForest",
          "ANN",
          "DecisionTree",
          "LogisticRegression"
         ],
         "y": [
          0.986,
          0.985,
          0.998,
          0.984,
          0.995,
          0.889
         ]
        },
        {
         "hovertemplate": "F1 Score: %{y:.4f}<extra></extra>",
         "marker": {
          "color": "firebrick"
         },
         "name": "F1 Score",
         "offset": -0.09999999999999998,
         "opacity": 0.8,
         "type": "bar",
         "width": 0.2,
         "x": [
          "SVM",
          "KNN",
          "RandomForest",
          "ANN",
          "DecisionTree",
          "LogisticRegression"
         ],
         "y": [
          0.9865461929242844,
          0.9857800653916122,
          0.9980140774012954,
          0.984781008755234,
          0.995085868547407,
          0.910408476685059
         ]
        },
        {
         "hovertemplate": "Precision: %{y:.4f}<extra></extra>",
         "marker": {
          "color": "forestgreen"
         },
         "name": "Precision",
         "offset": 0.10000000000000003,
         "opacity": 0.8,
         "type": "bar",
         "width": 0.2,
         "x": [
          "SVM",
          "KNN",
          "RandomForest",
          "ANN",
          "DecisionTree",
          "LogisticRegression"
         ],
         "y": [
          0.9880129305477131,
          0.9879666666666665,
          0.9980597014925373,
          0.9868107234813117,
          0.9953571428571429,
          0.9568536042273021
         ]
        },
        {
         "hovertemplate": "Recall: %{y:.4f}<extra></extra>",
         "marker": {
          "color": "goldenrod"
         },
         "name": "Recall",
         "offset": 0.3000000000000001,
         "opacity": 0.8,
         "type": "bar",
         "width": 0.2,
         "x": [
          "SVM",
          "KNN",
          "RandomForest",
          "ANN",
          "DecisionTree",
          "LogisticRegression"
         ],
         "y": [
          0.986,
          0.985,
          0.998,
          0.984,
          0.995,
          0.889
         ]
        }
       ],
       "layout": {
        "annotations": [
         {
          "showarrow": false,
          "text": "Threshold (0.8)",
          "x": 1,
          "xanchor": "right",
          "xref": "x domain",
          "y": 0.8,
          "yanchor": "top",
          "yref": "y"
         }
        ],
        "barmode": "group",
        "height": 600,
        "hovermode": "x unified",
        "legend": {
         "bgcolor": "rgba(255,255,255,0.5)",
         "x": 1.05,
         "y": 1
        },
        "margin": {
         "b": 150
        },
        "plot_bgcolor": "white",
        "shapes": [
         {
          "line": {
           "color": "orange",
           "dash": "dash"
          },
          "type": "line",
          "x0": 0,
          "x1": 1,
          "xref": "x domain",
          "y0": 0.8,
          "y1": 0.8,
          "yref": "y"
         }
        ],
        "template": {
         "data": {
          "bar": [
           {
            "error_x": {
             "color": "#2a3f5f"
            },
            "error_y": {
             "color": "#2a3f5f"
            },
            "marker": {
             "line": {
              "color": "#E5ECF6",
              "width": 0.5
             },
             "pattern": {
              "fillmode": "overlay",
              "size": 10,
              "solidity": 0.2
             }
            },
            "type": "bar"
           }
          ],
          "barpolar": [
           {
            "marker": {
             "line": {
              "color": "#E5ECF6",
              "width": 0.5
             },
             "pattern": {
              "fillmode": "overlay",
              "size": 10,
              "solidity": 0.2
             }
            },
            "type": "barpolar"
           }
          ],
          "carpet": [
           {
            "aaxis": {
             "endlinecolor": "#2a3f5f",
             "gridcolor": "white",
             "linecolor": "white",
             "minorgridcolor": "white",
             "startlinecolor": "#2a3f5f"
            },
            "baxis": {
             "endlinecolor": "#2a3f5f",
             "gridcolor": "white",
             "linecolor": "white",
             "minorgridcolor": "white",
             "startlinecolor": "#2a3f5f"
            },
            "type": "carpet"
           }
          ],
          "choropleth": [
           {
            "colorbar": {
             "outlinewidth": 0,
             "ticks": ""
            },
            "type": "choropleth"
           }
          ],
          "contour": [
           {
            "colorbar": {
             "outlinewidth": 0,
             "ticks": ""
            },
            "colorscale": [
             [
              0,
              "#0d0887"
             ],
             [
              0.1111111111111111,
              "#46039f"
             ],
             [
              0.2222222222222222,
              "#7201a8"
             ],
             [
              0.3333333333333333,
              "#9c179e"
             ],
             [
              0.4444444444444444,
              "#bd3786"
             ],
             [
              0.5555555555555556,
              "#d8576b"
             ],
             [
              0.6666666666666666,
              "#ed7953"
             ],
             [
              0.7777777777777778,
              "#fb9f3a"
             ],
             [
              0.8888888888888888,
              "#fdca26"
             ],
             [
              1,
              "#f0f921"
             ]
            ],
            "type": "contour"
           }
          ],
          "contourcarpet": [
           {
            "colorbar": {
             "outlinewidth": 0,
             "ticks": ""
            },
            "type": "contourcarpet"
           }
          ],
          "heatmap": [
           {
            "colorbar": {
             "outlinewidth": 0,
             "ticks": ""
            },
            "colorscale": [
             [
              0,
              "#0d0887"
             ],
             [
              0.1111111111111111,
              "#46039f"
             ],
             [
              0.2222222222222222,
              "#7201a8"
             ],
             [
              0.3333333333333333,
              "#9c179e"
             ],
             [
              0.4444444444444444,
              "#bd3786"
             ],
             [
              0.5555555555555556,
              "#d8576b"
             ],
             [
              0.6666666666666666,
              "#ed7953"
             ],
             [
              0.7777777777777778,
              "#fb9f3a"
             ],
             [
              0.8888888888888888,
              "#fdca26"
             ],
             [
              1,
              "#f0f921"
             ]
            ],
            "type": "heatmap"
           }
          ],
          "histogram": [
           {
            "marker": {
             "pattern": {
              "fillmode": "overlay",
              "size": 10,
              "solidity": 0.2
             }
            },
            "type": "histogram"
           }
          ],
          "histogram2d": [
           {
            "colorbar": {
             "outlinewidth": 0,
             "ticks": ""
            },
            "colorscale": [
             [
              0,
              "#0d0887"
             ],
             [
              0.1111111111111111,
              "#46039f"
             ],
             [
              0.2222222222222222,
              "#7201a8"
             ],
             [
              0.3333333333333333,
              "#9c179e"
             ],
             [
              0.4444444444444444,
              "#bd3786"
             ],
             [
              0.5555555555555556,
              "#d8576b"
             ],
             [
              0.6666666666666666,
              "#ed7953"
             ],
             [
              0.7777777777777778,
              "#fb9f3a"
             ],
             [
              0.8888888888888888,
              "#fdca26"
             ],
             [
              1,
              "#f0f921"
             ]
            ],
            "type": "histogram2d"
           }
          ],
          "histogram2dcontour": [
           {
            "colorbar": {
             "outlinewidth": 0,
             "ticks": ""
            },
            "colorscale": [
             [
              0,
              "#0d0887"
             ],
             [
              0.1111111111111111,
              "#46039f"
             ],
             [
              0.2222222222222222,
              "#7201a8"
             ],
             [
              0.3333333333333333,
              "#9c179e"
             ],
             [
              0.4444444444444444,
              "#bd3786"
             ],
             [
              0.5555555555555556,
              "#d8576b"
             ],
             [
              0.6666666666666666,
              "#ed7953"
             ],
             [
              0.7777777777777778,
              "#fb9f3a"
             ],
             [
              0.8888888888888888,
              "#fdca26"
             ],
             [
              1,
              "#f0f921"
             ]
            ],
            "type": "histogram2dcontour"
           }
          ],
          "mesh3d": [
           {
            "colorbar": {
             "outlinewidth": 0,
             "ticks": ""
            },
            "type": "mesh3d"
           }
          ],
          "parcoords": [
           {
            "line": {
             "colorbar": {
              "outlinewidth": 0,
              "ticks": ""
             }
            },
            "type": "parcoords"
           }
          ],
          "pie": [
           {
            "automargin": true,
            "type": "pie"
           }
          ],
          "scatter": [
           {
            "fillpattern": {
             "fillmode": "overlay",
             "size": 10,
             "solidity": 0.2
            },
            "type": "scatter"
           }
          ],
          "scatter3d": [
           {
            "line": {
             "colorbar": {
              "outlinewidth": 0,
              "ticks": ""
             }
            },
            "marker": {
             "colorbar": {
              "outlinewidth": 0,
              "ticks": ""
             }
            },
            "type": "scatter3d"
           }
          ],
          "scattercarpet": [
           {
            "marker": {
             "colorbar": {
              "outlinewidth": 0,
              "ticks": ""
             }
            },
            "type": "scattercarpet"
           }
          ],
          "scattergeo": [
           {
            "marker": {
             "colorbar": {
              "outlinewidth": 0,
              "ticks": ""
             }
            },
            "type": "scattergeo"
           }
          ],
          "scattergl": [
           {
            "marker": {
             "colorbar": {
              "outlinewidth": 0,
              "ticks": ""
             }
            },
            "type": "scattergl"
           }
          ],
          "scattermap": [
           {
            "marker": {
             "colorbar": {
              "outlinewidth": 0,
              "ticks": ""
             }
            },
            "type": "scattermap"
           }
          ],
          "scattermapbox": [
           {
            "marker": {
             "colorbar": {
              "outlinewidth": 0,
              "ticks": ""
             }
            },
            "type": "scattermapbox"
           }
          ],
          "scatterpolar": [
           {
            "marker": {
             "colorbar": {
              "outlinewidth": 0,
              "ticks": ""
             }
            },
            "type": "scatterpolar"
           }
          ],
          "scatterpolargl": [
           {
            "marker": {
             "colorbar": {
              "outlinewidth": 0,
              "ticks": ""
             }
            },
            "type": "scatterpolargl"
           }
          ],
          "scatterternary": [
           {
            "marker": {
             "colorbar": {
              "outlinewidth": 0,
              "ticks": ""
             }
            },
            "type": "scatterternary"
           }
          ],
          "surface": [
           {
            "colorbar": {
             "outlinewidth": 0,
             "ticks": ""
            },
            "colorscale": [
             [
              0,
              "#0d0887"
             ],
             [
              0.1111111111111111,
              "#46039f"
             ],
             [
              0.2222222222222222,
              "#7201a8"
             ],
             [
              0.3333333333333333,
              "#9c179e"
             ],
             [
              0.4444444444444444,
              "#bd3786"
             ],
             [
              0.5555555555555556,
              "#d8576b"
             ],
             [
              0.6666666666666666,
              "#ed7953"
             ],
             [
              0.7777777777777778,
              "#fb9f3a"
             ],
             [
              0.8888888888888888,
              "#fdca26"
             ],
             [
              1,
              "#f0f921"
             ]
            ],
            "type": "surface"
           }
          ],
          "table": [
           {
            "cells": {
             "fill": {
              "color": "#EBF0F8"
             },
             "line": {
              "color": "white"
             }
            },
            "header": {
             "fill": {
              "color": "#C8D4E3"
             },
             "line": {
              "color": "white"
             }
            },
            "type": "table"
           }
          ]
         },
         "layout": {
          "annotationdefaults": {
           "arrowcolor": "#2a3f5f",
           "arrowhead": 0,
           "arrowwidth": 1
          },
          "autotypenumbers": "strict",
          "coloraxis": {
           "colorbar": {
            "outlinewidth": 0,
            "ticks": ""
           }
          },
          "colorscale": {
           "diverging": [
            [
             0,
             "#8e0152"
            ],
            [
             0.1,
             "#c51b7d"
            ],
            [
             0.2,
             "#de77ae"
            ],
            [
             0.3,
             "#f1b6da"
            ],
            [
             0.4,
             "#fde0ef"
            ],
            [
             0.5,
             "#f7f7f7"
            ],
            [
             0.6,
             "#e6f5d0"
            ],
            [
             0.7,
             "#b8e186"
            ],
            [
             0.8,
             "#7fbc41"
            ],
            [
             0.9,
             "#4d9221"
            ],
            [
             1,
             "#276419"
            ]
           ],
           "sequential": [
            [
             0,
             "#0d0887"
            ],
            [
             0.1111111111111111,
             "#46039f"
            ],
            [
             0.2222222222222222,
             "#7201a8"
            ],
            [
             0.3333333333333333,
             "#9c179e"
            ],
            [
             0.4444444444444444,
             "#bd3786"
            ],
            [
             0.5555555555555556,
             "#d8576b"
            ],
            [
             0.6666666666666666,
             "#ed7953"
            ],
            [
             0.7777777777777778,
             "#fb9f3a"
            ],
            [
             0.8888888888888888,
             "#fdca26"
            ],
            [
             1,
             "#f0f921"
            ]
           ],
           "sequentialminus": [
            [
             0,
             "#0d0887"
            ],
            [
             0.1111111111111111,
             "#46039f"
            ],
            [
             0.2222222222222222,
             "#7201a8"
            ],
            [
             0.3333333333333333,
             "#9c179e"
            ],
            [
             0.4444444444444444,
             "#bd3786"
            ],
            [
             0.5555555555555556,
             "#d8576b"
            ],
            [
             0.6666666666666666,
             "#ed7953"
            ],
            [
             0.7777777777777778,
             "#fb9f3a"
            ],
            [
             0.8888888888888888,
             "#fdca26"
            ],
            [
             1,
             "#f0f921"
            ]
           ]
          },
          "colorway": [
           "#636efa",
           "#EF553B",
           "#00cc96",
           "#ab63fa",
           "#FFA15A",
           "#19d3f3",
           "#FF6692",
           "#B6E880",
           "#FF97FF",
           "#FECB52"
          ],
          "font": {
           "color": "#2a3f5f"
          },
          "geo": {
           "bgcolor": "white",
           "lakecolor": "white",
           "landcolor": "#E5ECF6",
           "showlakes": true,
           "showland": true,
           "subunitcolor": "white"
          },
          "hoverlabel": {
           "align": "left"
          },
          "hovermode": "closest",
          "mapbox": {
           "style": "light"
          },
          "paper_bgcolor": "white",
          "plot_bgcolor": "#E5ECF6",
          "polar": {
           "angularaxis": {
            "gridcolor": "white",
            "linecolor": "white",
            "ticks": ""
           },
           "bgcolor": "#E5ECF6",
           "radialaxis": {
            "gridcolor": "white",
            "linecolor": "white",
            "ticks": ""
           }
          },
          "scene": {
           "xaxis": {
            "backgroundcolor": "#E5ECF6",
            "gridcolor": "white",
            "gridwidth": 2,
            "linecolor": "white",
            "showbackground": true,
            "ticks": "",
            "zerolinecolor": "white"
           },
           "yaxis": {
            "backgroundcolor": "#E5ECF6",
            "gridcolor": "white",
            "gridwidth": 2,
            "linecolor": "white",
            "showbackground": true,
            "ticks": "",
            "zerolinecolor": "white"
           },
           "zaxis": {
            "backgroundcolor": "#E5ECF6",
            "gridcolor": "white",
            "gridwidth": 2,
            "linecolor": "white",
            "showbackground": true,
            "ticks": "",
            "zerolinecolor": "white"
           }
          },
          "shapedefaults": {
           "line": {
            "color": "#2a3f5f"
           }
          },
          "ternary": {
           "aaxis": {
            "gridcolor": "white",
            "linecolor": "white",
            "ticks": ""
           },
           "baxis": {
            "gridcolor": "white",
            "linecolor": "white",
            "ticks": ""
           },
           "bgcolor": "#E5ECF6",
           "caxis": {
            "gridcolor": "white",
            "linecolor": "white",
            "ticks": ""
           }
          },
          "title": {
           "x": 0.05
          },
          "xaxis": {
           "automargin": true,
           "gridcolor": "white",
           "linecolor": "white",
           "ticks": "",
           "title": {
            "standoff": 15
           },
           "zerolinecolor": "white",
           "zerolinewidth": 2
          },
          "yaxis": {
           "automargin": true,
           "gridcolor": "white",
           "linecolor": "white",
           "ticks": "",
           "title": {
            "standoff": 15
           },
           "zerolinecolor": "white",
           "zerolinewidth": 2
          }
         }
        },
        "title": {
         "font": {
          "size": 20
         },
         "text": "<b>Model Performance Comparison</b>",
         "x": 0.5
        },
        "xaxis": {
         "gridcolor": "lightgray",
         "tickangle": 45,
         "title": {
          "text": "Model"
         }
        },
        "yaxis": {
         "gridcolor": "lightgray",
         "range": [
          0,
          1.05
         ],
         "tickfont": {
          "color": "black"
         },
         "title": {
          "text": "Score"
         }
        }
       }
      },
      "text/html": [
       "<div>            <script src=\"https://cdnjs.cloudflare.com/ajax/libs/mathjax/2.7.5/MathJax.js?config=TeX-AMS-MML_SVG\"></script><script type=\"text/javascript\">if (window.MathJax && window.MathJax.Hub && window.MathJax.Hub.Config) {window.MathJax.Hub.Config({SVG: {font: \"STIX-Web\"}});}</script>                <script type=\"text/javascript\">window.PlotlyConfig = {MathJaxConfig: 'local'};</script>\n",
       "        <script charset=\"utf-8\" src=\"https://cdn.plot.ly/plotly-3.0.1.min.js\"></script>                <div id=\"6b429146-1559-454f-a7d2-55e3681ae2c5\" class=\"plotly-graph-div\" style=\"height:600px; width:100%;\"></div>            <script type=\"text/javascript\">                window.PLOTLYENV=window.PLOTLYENV || {};                                if (document.getElementById(\"6b429146-1559-454f-a7d2-55e3681ae2c5\")) {                    Plotly.newPlot(                        \"6b429146-1559-454f-a7d2-55e3681ae2c5\",                        [{\"hovertemplate\":\"Accuracy: %{y:.4f}\\u003cextra\\u003e\\u003c\\u002fextra\\u003e\",\"marker\":{\"color\":\"royalblue\"},\"name\":\"Accuracy\",\"offset\":-0.3,\"opacity\":0.8,\"width\":0.2,\"x\":[\"SVM\",\"KNN\",\"RandomForest\",\"ANN\",\"DecisionTree\",\"LogisticRegression\"],\"y\":[0.986,0.985,0.998,0.984,0.995,0.889],\"type\":\"bar\"},{\"hovertemplate\":\"F1 Score: %{y:.4f}\\u003cextra\\u003e\\u003c\\u002fextra\\u003e\",\"marker\":{\"color\":\"firebrick\"},\"name\":\"F1 Score\",\"offset\":-0.09999999999999998,\"opacity\":0.8,\"width\":0.2,\"x\":[\"SVM\",\"KNN\",\"RandomForest\",\"ANN\",\"DecisionTree\",\"LogisticRegression\"],\"y\":[0.9865461929242844,0.9857800653916122,0.9980140774012954,0.984781008755234,0.995085868547407,0.910408476685059],\"type\":\"bar\"},{\"hovertemplate\":\"Precision: %{y:.4f}\\u003cextra\\u003e\\u003c\\u002fextra\\u003e\",\"marker\":{\"color\":\"forestgreen\"},\"name\":\"Precision\",\"offset\":0.10000000000000003,\"opacity\":0.8,\"width\":0.2,\"x\":[\"SVM\",\"KNN\",\"RandomForest\",\"ANN\",\"DecisionTree\",\"LogisticRegression\"],\"y\":[0.9880129305477131,0.9879666666666665,0.9980597014925373,0.9868107234813117,0.9953571428571429,0.9568536042273021],\"type\":\"bar\"},{\"hovertemplate\":\"Recall: %{y:.4f}\\u003cextra\\u003e\\u003c\\u002fextra\\u003e\",\"marker\":{\"color\":\"goldenrod\"},\"name\":\"Recall\",\"offset\":0.3000000000000001,\"opacity\":0.8,\"width\":0.2,\"x\":[\"SVM\",\"KNN\",\"RandomForest\",\"ANN\",\"DecisionTree\",\"LogisticRegression\"],\"y\":[0.986,0.985,0.998,0.984,0.995,0.889],\"type\":\"bar\"}],                        {\"template\":{\"data\":{\"histogram2dcontour\":[{\"type\":\"histogram2dcontour\",\"colorbar\":{\"outlinewidth\":0,\"ticks\":\"\"},\"colorscale\":[[0.0,\"#0d0887\"],[0.1111111111111111,\"#46039f\"],[0.2222222222222222,\"#7201a8\"],[0.3333333333333333,\"#9c179e\"],[0.4444444444444444,\"#bd3786\"],[0.5555555555555556,\"#d8576b\"],[0.6666666666666666,\"#ed7953\"],[0.7777777777777778,\"#fb9f3a\"],[0.8888888888888888,\"#fdca26\"],[1.0,\"#f0f921\"]]}],\"choropleth\":[{\"type\":\"choropleth\",\"colorbar\":{\"outlinewidth\":0,\"ticks\":\"\"}}],\"histogram2d\":[{\"type\":\"histogram2d\",\"colorbar\":{\"outlinewidth\":0,\"ticks\":\"\"},\"colorscale\":[[0.0,\"#0d0887\"],[0.1111111111111111,\"#46039f\"],[0.2222222222222222,\"#7201a8\"],[0.3333333333333333,\"#9c179e\"],[0.4444444444444444,\"#bd3786\"],[0.5555555555555556,\"#d8576b\"],[0.6666666666666666,\"#ed7953\"],[0.7777777777777778,\"#fb9f3a\"],[0.8888888888888888,\"#fdca26\"],[1.0,\"#f0f921\"]]}],\"heatmap\":[{\"type\":\"heatmap\",\"colorbar\":{\"outlinewidth\":0,\"ticks\":\"\"},\"colorscale\":[[0.0,\"#0d0887\"],[0.1111111111111111,\"#46039f\"],[0.2222222222222222,\"#7201a8\"],[0.3333333333333333,\"#9c179e\"],[0.4444444444444444,\"#bd3786\"],[0.5555555555555556,\"#d8576b\"],[0.6666666666666666,\"#ed7953\"],[0.7777777777777778,\"#fb9f3a\"],[0.8888888888888888,\"#fdca26\"],[1.0,\"#f0f921\"]]}],\"contourcarpet\":[{\"type\":\"contourcarpet\",\"colorbar\":{\"outlinewidth\":0,\"ticks\":\"\"}}],\"contour\":[{\"type\":\"contour\",\"colorbar\":{\"outlinewidth\":0,\"ticks\":\"\"},\"colorscale\":[[0.0,\"#0d0887\"],[0.1111111111111111,\"#46039f\"],[0.2222222222222222,\"#7201a8\"],[0.3333333333333333,\"#9c179e\"],[0.4444444444444444,\"#bd3786\"],[0.5555555555555556,\"#d8576b\"],[0.6666666666666666,\"#ed7953\"],[0.7777777777777778,\"#fb9f3a\"],[0.8888888888888888,\"#fdca26\"],[1.0,\"#f0f921\"]]}],\"surface\":[{\"type\":\"surface\",\"colorbar\":{\"outlinewidth\":0,\"ticks\":\"\"},\"colorscale\":[[0.0,\"#0d0887\"],[0.1111111111111111,\"#46039f\"],[0.2222222222222222,\"#7201a8\"],[0.3333333333333333,\"#9c179e\"],[0.4444444444444444,\"#bd3786\"],[0.5555555555555556,\"#d8576b\"],[0.6666666666666666,\"#ed7953\"],[0.7777777777777778,\"#fb9f3a\"],[0.8888888888888888,\"#fdca26\"],[1.0,\"#f0f921\"]]}],\"mesh3d\":[{\"type\":\"mesh3d\",\"colorbar\":{\"outlinewidth\":0,\"ticks\":\"\"}}],\"scatter\":[{\"fillpattern\":{\"fillmode\":\"overlay\",\"size\":10,\"solidity\":0.2},\"type\":\"scatter\"}],\"parcoords\":[{\"type\":\"parcoords\",\"line\":{\"colorbar\":{\"outlinewidth\":0,\"ticks\":\"\"}}}],\"scatterpolargl\":[{\"type\":\"scatterpolargl\",\"marker\":{\"colorbar\":{\"outlinewidth\":0,\"ticks\":\"\"}}}],\"bar\":[{\"error_x\":{\"color\":\"#2a3f5f\"},\"error_y\":{\"color\":\"#2a3f5f\"},\"marker\":{\"line\":{\"color\":\"#E5ECF6\",\"width\":0.5},\"pattern\":{\"fillmode\":\"overlay\",\"size\":10,\"solidity\":0.2}},\"type\":\"bar\"}],\"scattergeo\":[{\"type\":\"scattergeo\",\"marker\":{\"colorbar\":{\"outlinewidth\":0,\"ticks\":\"\"}}}],\"scatterpolar\":[{\"type\":\"scatterpolar\",\"marker\":{\"colorbar\":{\"outlinewidth\":0,\"ticks\":\"\"}}}],\"histogram\":[{\"marker\":{\"pattern\":{\"fillmode\":\"overlay\",\"size\":10,\"solidity\":0.2}},\"type\":\"histogram\"}],\"scattergl\":[{\"type\":\"scattergl\",\"marker\":{\"colorbar\":{\"outlinewidth\":0,\"ticks\":\"\"}}}],\"scatter3d\":[{\"type\":\"scatter3d\",\"line\":{\"colorbar\":{\"outlinewidth\":0,\"ticks\":\"\"}},\"marker\":{\"colorbar\":{\"outlinewidth\":0,\"ticks\":\"\"}}}],\"scattermap\":[{\"type\":\"scattermap\",\"marker\":{\"colorbar\":{\"outlinewidth\":0,\"ticks\":\"\"}}}],\"scattermapbox\":[{\"type\":\"scattermapbox\",\"marker\":{\"colorbar\":{\"outlinewidth\":0,\"ticks\":\"\"}}}],\"scatterternary\":[{\"type\":\"scatterternary\",\"marker\":{\"colorbar\":{\"outlinewidth\":0,\"ticks\":\"\"}}}],\"scattercarpet\":[{\"type\":\"scattercarpet\",\"marker\":{\"colorbar\":{\"outlinewidth\":0,\"ticks\":\"\"}}}],\"carpet\":[{\"aaxis\":{\"endlinecolor\":\"#2a3f5f\",\"gridcolor\":\"white\",\"linecolor\":\"white\",\"minorgridcolor\":\"white\",\"startlinecolor\":\"#2a3f5f\"},\"baxis\":{\"endlinecolor\":\"#2a3f5f\",\"gridcolor\":\"white\",\"linecolor\":\"white\",\"minorgridcolor\":\"white\",\"startlinecolor\":\"#2a3f5f\"},\"type\":\"carpet\"}],\"table\":[{\"cells\":{\"fill\":{\"color\":\"#EBF0F8\"},\"line\":{\"color\":\"white\"}},\"header\":{\"fill\":{\"color\":\"#C8D4E3\"},\"line\":{\"color\":\"white\"}},\"type\":\"table\"}],\"barpolar\":[{\"marker\":{\"line\":{\"color\":\"#E5ECF6\",\"width\":0.5},\"pattern\":{\"fillmode\":\"overlay\",\"size\":10,\"solidity\":0.2}},\"type\":\"barpolar\"}],\"pie\":[{\"automargin\":true,\"type\":\"pie\"}]},\"layout\":{\"autotypenumbers\":\"strict\",\"colorway\":[\"#636efa\",\"#EF553B\",\"#00cc96\",\"#ab63fa\",\"#FFA15A\",\"#19d3f3\",\"#FF6692\",\"#B6E880\",\"#FF97FF\",\"#FECB52\"],\"font\":{\"color\":\"#2a3f5f\"},\"hovermode\":\"closest\",\"hoverlabel\":{\"align\":\"left\"},\"paper_bgcolor\":\"white\",\"plot_bgcolor\":\"#E5ECF6\",\"polar\":{\"bgcolor\":\"#E5ECF6\",\"angularaxis\":{\"gridcolor\":\"white\",\"linecolor\":\"white\",\"ticks\":\"\"},\"radialaxis\":{\"gridcolor\":\"white\",\"linecolor\":\"white\",\"ticks\":\"\"}},\"ternary\":{\"bgcolor\":\"#E5ECF6\",\"aaxis\":{\"gridcolor\":\"white\",\"linecolor\":\"white\",\"ticks\":\"\"},\"baxis\":{\"gridcolor\":\"white\",\"linecolor\":\"white\",\"ticks\":\"\"},\"caxis\":{\"gridcolor\":\"white\",\"linecolor\":\"white\",\"ticks\":\"\"}},\"coloraxis\":{\"colorbar\":{\"outlinewidth\":0,\"ticks\":\"\"}},\"colorscale\":{\"sequential\":[[0.0,\"#0d0887\"],[0.1111111111111111,\"#46039f\"],[0.2222222222222222,\"#7201a8\"],[0.3333333333333333,\"#9c179e\"],[0.4444444444444444,\"#bd3786\"],[0.5555555555555556,\"#d8576b\"],[0.6666666666666666,\"#ed7953\"],[0.7777777777777778,\"#fb9f3a\"],[0.8888888888888888,\"#fdca26\"],[1.0,\"#f0f921\"]],\"sequentialminus\":[[0.0,\"#0d0887\"],[0.1111111111111111,\"#46039f\"],[0.2222222222222222,\"#7201a8\"],[0.3333333333333333,\"#9c179e\"],[0.4444444444444444,\"#bd3786\"],[0.5555555555555556,\"#d8576b\"],[0.6666666666666666,\"#ed7953\"],[0.7777777777777778,\"#fb9f3a\"],[0.8888888888888888,\"#fdca26\"],[1.0,\"#f0f921\"]],\"diverging\":[[0,\"#8e0152\"],[0.1,\"#c51b7d\"],[0.2,\"#de77ae\"],[0.3,\"#f1b6da\"],[0.4,\"#fde0ef\"],[0.5,\"#f7f7f7\"],[0.6,\"#e6f5d0\"],[0.7,\"#b8e186\"],[0.8,\"#7fbc41\"],[0.9,\"#4d9221\"],[1,\"#276419\"]]},\"xaxis\":{\"gridcolor\":\"white\",\"linecolor\":\"white\",\"ticks\":\"\",\"title\":{\"standoff\":15},\"zerolinecolor\":\"white\",\"automargin\":true,\"zerolinewidth\":2},\"yaxis\":{\"gridcolor\":\"white\",\"linecolor\":\"white\",\"ticks\":\"\",\"title\":{\"standoff\":15},\"zerolinecolor\":\"white\",\"automargin\":true,\"zerolinewidth\":2},\"scene\":{\"xaxis\":{\"backgroundcolor\":\"#E5ECF6\",\"gridcolor\":\"white\",\"linecolor\":\"white\",\"showbackground\":true,\"ticks\":\"\",\"zerolinecolor\":\"white\",\"gridwidth\":2},\"yaxis\":{\"backgroundcolor\":\"#E5ECF6\",\"gridcolor\":\"white\",\"linecolor\":\"white\",\"showbackground\":true,\"ticks\":\"\",\"zerolinecolor\":\"white\",\"gridwidth\":2},\"zaxis\":{\"backgroundcolor\":\"#E5ECF6\",\"gridcolor\":\"white\",\"linecolor\":\"white\",\"showbackground\":true,\"ticks\":\"\",\"zerolinecolor\":\"white\",\"gridwidth\":2}},\"shapedefaults\":{\"line\":{\"color\":\"#2a3f5f\"}},\"annotationdefaults\":{\"arrowcolor\":\"#2a3f5f\",\"arrowhead\":0,\"arrowwidth\":1},\"geo\":{\"bgcolor\":\"white\",\"landcolor\":\"#E5ECF6\",\"subunitcolor\":\"white\",\"showland\":true,\"showlakes\":true,\"lakecolor\":\"white\"},\"title\":{\"x\":0.05},\"mapbox\":{\"style\":\"light\"}}},\"title\":{\"font\":{\"size\":20},\"text\":\"\\u003cb\\u003eModel Performance Comparison\\u003c\\u002fb\\u003e\",\"x\":0.5},\"xaxis\":{\"title\":{\"text\":\"Model\"},\"gridcolor\":\"lightgray\",\"tickangle\":45},\"yaxis\":{\"tickfont\":{\"color\":\"black\"},\"title\":{\"text\":\"Score\"},\"range\":[0,1.05],\"gridcolor\":\"lightgray\"},\"legend\":{\"x\":1.05,\"y\":1.0,\"bgcolor\":\"rgba(255,255,255,0.5)\"},\"margin\":{\"b\":150},\"barmode\":\"group\",\"plot_bgcolor\":\"white\",\"hovermode\":\"x unified\",\"height\":600,\"shapes\":[{\"line\":{\"color\":\"orange\",\"dash\":\"dash\"},\"type\":\"line\",\"x0\":0,\"x1\":1,\"xref\":\"x domain\",\"y0\":0.8,\"y1\":0.8,\"yref\":\"y\"}],\"annotations\":[{\"showarrow\":false,\"text\":\"Threshold (0.8)\",\"x\":1,\"xanchor\":\"right\",\"xref\":\"x domain\",\"y\":0.8,\"yanchor\":\"top\",\"yref\":\"y\"}]},                        {\"responsive\": true}                    ).then(function(){\n",
       "                            \n",
       "var gd = document.getElementById('6b429146-1559-454f-a7d2-55e3681ae2c5');\n",
       "var x = new MutationObserver(function (mutations, observer) {{\n",
       "        var display = window.getComputedStyle(gd).display;\n",
       "        if (!display || display === 'none') {{\n",
       "            console.log([gd, 'removed!']);\n",
       "            Plotly.purge(gd);\n",
       "            observer.disconnect();\n",
       "        }}\n",
       "}});\n",
       "\n",
       "// Listen for the removal of the full notebook cells\n",
       "var notebookContainer = gd.closest('#notebook-container');\n",
       "if (notebookContainer) {{\n",
       "    x.observe(notebookContainer, {childList: true});\n",
       "}}\n",
       "\n",
       "// Listen for the clearing of the current output cell\n",
       "var outputEl = gd.closest('.output');\n",
       "if (outputEl) {{\n",
       "    x.observe(outputEl, {childList: true});\n",
       "}}\n",
       "\n",
       "                        })                };            </script>        </div>"
      ]
     },
     "metadata": {},
     "output_type": "display_data"
    },
    {
     "data": {
      "application/vnd.plotly.v1+json": {
       "config": {
        "plotlyServerURL": "https://plot.ly"
       },
       "data": [
        {
         "colorscale": [
          [
           0,
           "rgb(247,251,255)"
          ],
          [
           0.125,
           "rgb(222,235,247)"
          ],
          [
           0.25,
           "rgb(198,219,239)"
          ],
          [
           0.375,
           "rgb(158,202,225)"
          ],
          [
           0.5,
           "rgb(107,174,214)"
          ],
          [
           0.625,
           "rgb(66,146,198)"
          ],
          [
           0.75,
           "rgb(33,113,181)"
          ],
          [
           0.875,
           "rgb(8,81,156)"
          ],
          [
           1,
           "rgb(8,48,107)"
          ]
         ],
         "hovertemplate": "True: %{y}<br>Predicted: %{x}<br>Count: %{z}<extra></extra>",
         "name": "SVM",
         "text": {
          "bdata": "AwAAAAAAAACXAw0AAAABAEAA",
          "dtype": "i2",
          "shape": "3, 3"
         },
         "texttemplate": "%{text}",
         "type": "heatmap",
         "visible": true,
         "x": [
          "abnormal",
          "normal",
          "warning"
         ],
         "y": [
          "abnormal",
          "normal",
          "warning"
         ],
         "z": {
          "bdata": "AwAAAAAAAACXAw0AAAABAEAA",
          "dtype": "i2",
          "shape": "3, 3"
         }
        },
        {
         "colorscale": [
          [
           0,
           "rgb(247,251,255)"
          ],
          [
           0.125,
           "rgb(222,235,247)"
          ],
          [
           0.25,
           "rgb(198,219,239)"
          ],
          [
           0.375,
           "rgb(158,202,225)"
          ],
          [
           0.5,
           "rgb(107,174,214)"
          ],
          [
           0.625,
           "rgb(66,146,198)"
          ],
          [
           0.75,
           "rgb(33,113,181)"
          ],
          [
           0.875,
           "rgb(8,81,156)"
          ],
          [
           1,
           "rgb(8,48,107)"
          ]
         ],
         "hovertemplate": "True: %{y}<br>Predicted: %{x}<br>Count: %{z}<extra></extra>",
         "name": "KNN",
         "text": {
          "bdata": "AwAAAAAAAgCVAw0AAAAAAEEA",
          "dtype": "i2",
          "shape": "3, 3"
         },
         "texttemplate": "%{text}",
         "type": "heatmap",
         "visible": false,
         "x": [
          "abnormal",
          "normal",
          "warning"
         ],
         "y": [
          "abnormal",
          "normal",
          "warning"
         ],
         "z": {
          "bdata": "AwAAAAAAAgCVAw0AAAAAAEEA",
          "dtype": "i2",
          "shape": "3, 3"
         }
        },
        {
         "colorscale": [
          [
           0,
           "rgb(247,251,255)"
          ],
          [
           0.125,
           "rgb(222,235,247)"
          ],
          [
           0.25,
           "rgb(198,219,239)"
          ],
          [
           0.375,
           "rgb(158,202,225)"
          ],
          [
           0.5,
           "rgb(107,174,214)"
          ],
          [
           0.625,
           "rgb(66,146,198)"
          ],
          [
           0.75,
           "rgb(33,113,181)"
          ],
          [
           0.875,
           "rgb(8,81,156)"
          ],
          [
           1,
           "rgb(8,48,107)"
          ]
         ],
         "hovertemplate": "True: %{y}<br>Predicted: %{x}<br>Count: %{z}<extra></extra>",
         "name": "RandomForest",
         "text": {
          "bdata": "AwAAAAAAAACiAwIAAAAAAEEA",
          "dtype": "i2",
          "shape": "3, 3"
         },
         "texttemplate": "%{text}",
         "type": "heatmap",
         "visible": false,
         "x": [
          "abnormal",
          "normal",
          "warning"
         ],
         "y": [
          "abnormal",
          "normal",
          "warning"
         ],
         "z": {
          "bdata": "AwAAAAAAAACiAwIAAAAAAEEA",
          "dtype": "i2",
          "shape": "3, 3"
         }
        },
        {
         "colorscale": [
          [
           0,
           "rgb(247,251,255)"
          ],
          [
           0.125,
           "rgb(222,235,247)"
          ],
          [
           0.25,
           "rgb(198,219,239)"
          ],
          [
           0.375,
           "rgb(158,202,225)"
          ],
          [
           0.5,
           "rgb(107,174,214)"
          ],
          [
           0.625,
           "rgb(66,146,198)"
          ],
          [
           0.75,
           "rgb(33,113,181)"
          ],
          [
           0.875,
           "rgb(8,81,156)"
          ],
          [
           1,
           "rgb(8,48,107)"
          ]
         ],
         "hovertemplate": "True: %{y}<br>Predicted: %{x}<br>Count: %{z}<extra></extra>",
         "name": "ANN",
         "text": {
          "bdata": "AwAAAAAAAgCVAw0AAAABAEAA",
          "dtype": "i2",
          "shape": "3, 3"
         },
         "texttemplate": "%{text}",
         "type": "heatmap",
         "visible": false,
         "x": [
          "abnormal",
          "normal",
          "warning"
         ],
         "y": [
          "abnormal",
          "normal",
          "warning"
         ],
         "z": {
          "bdata": "AwAAAAAAAgCVAw0AAAABAEAA",
          "dtype": "i2",
          "shape": "3, 3"
         }
        },
        {
         "colorscale": [
          [
           0,
           "rgb(247,251,255)"
          ],
          [
           0.125,
           "rgb(222,235,247)"
          ],
          [
           0.25,
           "rgb(198,219,239)"
          ],
          [
           0.375,
           "rgb(158,202,225)"
          ],
          [
           0.5,
           "rgb(107,174,214)"
          ],
          [
           0.625,
           "rgb(66,146,198)"
          ],
          [
           0.75,
           "rgb(33,113,181)"
          ],
          [
           0.875,
           "rgb(8,81,156)"
          ],
          [
           1,
           "rgb(8,48,107)"
          ]
         ],
         "hovertemplate": "True: %{y}<br>Predicted: %{x}<br>Count: %{z}<extra></extra>",
         "name": "DecisionTree",
         "text": {
          "bdata": "AwAAAAAAAACfAwUAAAAAAEEA",
          "dtype": "i2",
          "shape": "3, 3"
         },
         "texttemplate": "%{text}",
         "type": "heatmap",
         "visible": false,
         "x": [
          "abnormal",
          "normal",
          "warning"
         ],
         "y": [
          "abnormal",
          "normal",
          "warning"
         ],
         "z": {
          "bdata": "AwAAAAAAAACfAwUAAAAAAEEA",
          "dtype": "i2",
          "shape": "3, 3"
         }
        },
        {
         "colorscale": [
          [
           0,
           "rgb(247,251,255)"
          ],
          [
           0.125,
           "rgb(222,235,247)"
          ],
          [
           0.25,
           "rgb(198,219,239)"
          ],
          [
           0.375,
           "rgb(158,202,225)"
          ],
          [
           0.5,
           "rgb(107,174,214)"
          ],
          [
           0.625,
           "rgb(66,146,198)"
          ],
          [
           0.75,
           "rgb(33,113,181)"
          ],
          [
           0.875,
           "rgb(8,81,156)"
          ],
          [
           1,
           "rgb(8,48,107)"
          ]
         ],
         "hovertemplate": "True: %{y}<br>Predicted: %{x}<br>Count: %{z}<extra></extra>",
         "name": "LogisticRegression",
         "text": {
          "bdata": "AwAAAAAAAgA2A2wAAAABAEAA",
          "dtype": "i2",
          "shape": "3, 3"
         },
         "texttemplate": "%{text}",
         "type": "heatmap",
         "visible": false,
         "x": [
          "abnormal",
          "normal",
          "warning"
         ],
         "y": [
          "abnormal",
          "normal",
          "warning"
         ],
         "z": {
          "bdata": "AwAAAAAAAgA2A2wAAAABAEAA",
          "dtype": "i2",
          "shape": "3, 3"
         }
        }
       ],
       "layout": {
        "height": 500,
        "plot_bgcolor": "white",
        "template": {
         "data": {
          "bar": [
           {
            "error_x": {
             "color": "#2a3f5f"
            },
            "error_y": {
             "color": "#2a3f5f"
            },
            "marker": {
             "line": {
              "color": "#E5ECF6",
              "width": 0.5
             },
             "pattern": {
              "fillmode": "overlay",
              "size": 10,
              "solidity": 0.2
             }
            },
            "type": "bar"
           }
          ],
          "barpolar": [
           {
            "marker": {
             "line": {
              "color": "#E5ECF6",
              "width": 0.5
             },
             "pattern": {
              "fillmode": "overlay",
              "size": 10,
              "solidity": 0.2
             }
            },
            "type": "barpolar"
           }
          ],
          "carpet": [
           {
            "aaxis": {
             "endlinecolor": "#2a3f5f",
             "gridcolor": "white",
             "linecolor": "white",
             "minorgridcolor": "white",
             "startlinecolor": "#2a3f5f"
            },
            "baxis": {
             "endlinecolor": "#2a3f5f",
             "gridcolor": "white",
             "linecolor": "white",
             "minorgridcolor": "white",
             "startlinecolor": "#2a3f5f"
            },
            "type": "carpet"
           }
          ],
          "choropleth": [
           {
            "colorbar": {
             "outlinewidth": 0,
             "ticks": ""
            },
            "type": "choropleth"
           }
          ],
          "contour": [
           {
            "colorbar": {
             "outlinewidth": 0,
             "ticks": ""
            },
            "colorscale": [
             [
              0,
              "#0d0887"
             ],
             [
              0.1111111111111111,
              "#46039f"
             ],
             [
              0.2222222222222222,
              "#7201a8"
             ],
             [
              0.3333333333333333,
              "#9c179e"
             ],
             [
              0.4444444444444444,
              "#bd3786"
             ],
             [
              0.5555555555555556,
              "#d8576b"
             ],
             [
              0.6666666666666666,
              "#ed7953"
             ],
             [
              0.7777777777777778,
              "#fb9f3a"
             ],
             [
              0.8888888888888888,
              "#fdca26"
             ],
             [
              1,
              "#f0f921"
             ]
            ],
            "type": "contour"
           }
          ],
          "contourcarpet": [
           {
            "colorbar": {
             "outlinewidth": 0,
             "ticks": ""
            },
            "type": "contourcarpet"
           }
          ],
          "heatmap": [
           {
            "colorbar": {
             "outlinewidth": 0,
             "ticks": ""
            },
            "colorscale": [
             [
              0,
              "#0d0887"
             ],
             [
              0.1111111111111111,
              "#46039f"
             ],
             [
              0.2222222222222222,
              "#7201a8"
             ],
             [
              0.3333333333333333,
              "#9c179e"
             ],
             [
              0.4444444444444444,
              "#bd3786"
             ],
             [
              0.5555555555555556,
              "#d8576b"
             ],
             [
              0.6666666666666666,
              "#ed7953"
             ],
             [
              0.7777777777777778,
              "#fb9f3a"
             ],
             [
              0.8888888888888888,
              "#fdca26"
             ],
             [
              1,
              "#f0f921"
             ]
            ],
            "type": "heatmap"
           }
          ],
          "histogram": [
           {
            "marker": {
             "pattern": {
              "fillmode": "overlay",
              "size": 10,
              "solidity": 0.2
             }
            },
            "type": "histogram"
           }
          ],
          "histogram2d": [
           {
            "colorbar": {
             "outlinewidth": 0,
             "ticks": ""
            },
            "colorscale": [
             [
              0,
              "#0d0887"
             ],
             [
              0.1111111111111111,
              "#46039f"
             ],
             [
              0.2222222222222222,
              "#7201a8"
             ],
             [
              0.3333333333333333,
              "#9c179e"
             ],
             [
              0.4444444444444444,
              "#bd3786"
             ],
             [
              0.5555555555555556,
              "#d8576b"
             ],
             [
              0.6666666666666666,
              "#ed7953"
             ],
             [
              0.7777777777777778,
              "#fb9f3a"
             ],
             [
              0.8888888888888888,
              "#fdca26"
             ],
             [
              1,
              "#f0f921"
             ]
            ],
            "type": "histogram2d"
           }
          ],
          "histogram2dcontour": [
           {
            "colorbar": {
             "outlinewidth": 0,
             "ticks": ""
            },
            "colorscale": [
             [
              0,
              "#0d0887"
             ],
             [
              0.1111111111111111,
              "#46039f"
             ],
             [
              0.2222222222222222,
              "#7201a8"
             ],
             [
              0.3333333333333333,
              "#9c179e"
             ],
             [
              0.4444444444444444,
              "#bd3786"
             ],
             [
              0.5555555555555556,
              "#d8576b"
             ],
             [
              0.6666666666666666,
              "#ed7953"
             ],
             [
              0.7777777777777778,
              "#fb9f3a"
             ],
             [
              0.8888888888888888,
              "#fdca26"
             ],
             [
              1,
              "#f0f921"
             ]
            ],
            "type": "histogram2dcontour"
           }
          ],
          "mesh3d": [
           {
            "colorbar": {
             "outlinewidth": 0,
             "ticks": ""
            },
            "type": "mesh3d"
           }
          ],
          "parcoords": [
           {
            "line": {
             "colorbar": {
              "outlinewidth": 0,
              "ticks": ""
             }
            },
            "type": "parcoords"
           }
          ],
          "pie": [
           {
            "automargin": true,
            "type": "pie"
           }
          ],
          "scatter": [
           {
            "fillpattern": {
             "fillmode": "overlay",
             "size": 10,
             "solidity": 0.2
            },
            "type": "scatter"
           }
          ],
          "scatter3d": [
           {
            "line": {
             "colorbar": {
              "outlinewidth": 0,
              "ticks": ""
             }
            },
            "marker": {
             "colorbar": {
              "outlinewidth": 0,
              "ticks": ""
             }
            },
            "type": "scatter3d"
           }
          ],
          "scattercarpet": [
           {
            "marker": {
             "colorbar": {
              "outlinewidth": 0,
              "ticks": ""
             }
            },
            "type": "scattercarpet"
           }
          ],
          "scattergeo": [
           {
            "marker": {
             "colorbar": {
              "outlinewidth": 0,
              "ticks": ""
             }
            },
            "type": "scattergeo"
           }
          ],
          "scattergl": [
           {
            "marker": {
             "colorbar": {
              "outlinewidth": 0,
              "ticks": ""
             }
            },
            "type": "scattergl"
           }
          ],
          "scattermap": [
           {
            "marker": {
             "colorbar": {
              "outlinewidth": 0,
              "ticks": ""
             }
            },
            "type": "scattermap"
           }
          ],
          "scattermapbox": [
           {
            "marker": {
             "colorbar": {
              "outlinewidth": 0,
              "ticks": ""
             }
            },
            "type": "scattermapbox"
           }
          ],
          "scatterpolar": [
           {
            "marker": {
             "colorbar": {
              "outlinewidth": 0,
              "ticks": ""
             }
            },
            "type": "scatterpolar"
           }
          ],
          "scatterpolargl": [
           {
            "marker": {
             "colorbar": {
              "outlinewidth": 0,
              "ticks": ""
             }
            },
            "type": "scatterpolargl"
           }
          ],
          "scatterternary": [
           {
            "marker": {
             "colorbar": {
              "outlinewidth": 0,
              "ticks": ""
             }
            },
            "type": "scatterternary"
           }
          ],
          "surface": [
           {
            "colorbar": {
             "outlinewidth": 0,
             "ticks": ""
            },
            "colorscale": [
             [
              0,
              "#0d0887"
             ],
             [
              0.1111111111111111,
              "#46039f"
             ],
             [
              0.2222222222222222,
              "#7201a8"
             ],
             [
              0.3333333333333333,
              "#9c179e"
             ],
             [
              0.4444444444444444,
              "#bd3786"
             ],
             [
              0.5555555555555556,
              "#d8576b"
             ],
             [
              0.6666666666666666,
              "#ed7953"
             ],
             [
              0.7777777777777778,
              "#fb9f3a"
             ],
             [
              0.8888888888888888,
              "#fdca26"
             ],
             [
              1,
              "#f0f921"
             ]
            ],
            "type": "surface"
           }
          ],
          "table": [
           {
            "cells": {
             "fill": {
              "color": "#EBF0F8"
             },
             "line": {
              "color": "white"
             }
            },
            "header": {
             "fill": {
              "color": "#C8D4E3"
             },
             "line": {
              "color": "white"
             }
            },
            "type": "table"
           }
          ]
         },
         "layout": {
          "annotationdefaults": {
           "arrowcolor": "#2a3f5f",
           "arrowhead": 0,
           "arrowwidth": 1
          },
          "autotypenumbers": "strict",
          "coloraxis": {
           "colorbar": {
            "outlinewidth": 0,
            "ticks": ""
           }
          },
          "colorscale": {
           "diverging": [
            [
             0,
             "#8e0152"
            ],
            [
             0.1,
             "#c51b7d"
            ],
            [
             0.2,
             "#de77ae"
            ],
            [
             0.3,
             "#f1b6da"
            ],
            [
             0.4,
             "#fde0ef"
            ],
            [
             0.5,
             "#f7f7f7"
            ],
            [
             0.6,
             "#e6f5d0"
            ],
            [
             0.7,
             "#b8e186"
            ],
            [
             0.8,
             "#7fbc41"
            ],
            [
             0.9,
             "#4d9221"
            ],
            [
             1,
             "#276419"
            ]
           ],
           "sequential": [
            [
             0,
             "#0d0887"
            ],
            [
             0.1111111111111111,
             "#46039f"
            ],
            [
             0.2222222222222222,
             "#7201a8"
            ],
            [
             0.3333333333333333,
             "#9c179e"
            ],
            [
             0.4444444444444444,
             "#bd3786"
            ],
            [
             0.5555555555555556,
             "#d8576b"
            ],
            [
             0.6666666666666666,
             "#ed7953"
            ],
            [
             0.7777777777777778,
             "#fb9f3a"
            ],
            [
             0.8888888888888888,
             "#fdca26"
            ],
            [
             1,
             "#f0f921"
            ]
           ],
           "sequentialminus": [
            [
             0,
             "#0d0887"
            ],
            [
             0.1111111111111111,
             "#46039f"
            ],
            [
             0.2222222222222222,
             "#7201a8"
            ],
            [
             0.3333333333333333,
             "#9c179e"
            ],
            [
             0.4444444444444444,
             "#bd3786"
            ],
            [
             0.5555555555555556,
             "#d8576b"
            ],
            [
             0.6666666666666666,
             "#ed7953"
            ],
            [
             0.7777777777777778,
             "#fb9f3a"
            ],
            [
             0.8888888888888888,
             "#fdca26"
            ],
            [
             1,
             "#f0f921"
            ]
           ]
          },
          "colorway": [
           "#636efa",
           "#EF553B",
           "#00cc96",
           "#ab63fa",
           "#FFA15A",
           "#19d3f3",
           "#FF6692",
           "#B6E880",
           "#FF97FF",
           "#FECB52"
          ],
          "font": {
           "color": "#2a3f5f"
          },
          "geo": {
           "bgcolor": "white",
           "lakecolor": "white",
           "landcolor": "#E5ECF6",
           "showlakes": true,
           "showland": true,
           "subunitcolor": "white"
          },
          "hoverlabel": {
           "align": "left"
          },
          "hovermode": "closest",
          "mapbox": {
           "style": "light"
          },
          "paper_bgcolor": "white",
          "plot_bgcolor": "#E5ECF6",
          "polar": {
           "angularaxis": {
            "gridcolor": "white",
            "linecolor": "white",
            "ticks": ""
           },
           "bgcolor": "#E5ECF6",
           "radialaxis": {
            "gridcolor": "white",
            "linecolor": "white",
            "ticks": ""
           }
          },
          "scene": {
           "xaxis": {
            "backgroundcolor": "#E5ECF6",
            "gridcolor": "white",
            "gridwidth": 2,
            "linecolor": "white",
            "showbackground": true,
            "ticks": "",
            "zerolinecolor": "white"
           },
           "yaxis": {
            "backgroundcolor": "#E5ECF6",
            "gridcolor": "white",
            "gridwidth": 2,
            "linecolor": "white",
            "showbackground": true,
            "ticks": "",
            "zerolinecolor": "white"
           },
           "zaxis": {
            "backgroundcolor": "#E5ECF6",
            "gridcolor": "white",
            "gridwidth": 2,
            "linecolor": "white",
            "showbackground": true,
            "ticks": "",
            "zerolinecolor": "white"
           }
          },
          "shapedefaults": {
           "line": {
            "color": "#2a3f5f"
           }
          },
          "ternary": {
           "aaxis": {
            "gridcolor": "white",
            "linecolor": "white",
            "ticks": ""
           },
           "baxis": {
            "gridcolor": "white",
            "linecolor": "white",
            "ticks": ""
           },
           "bgcolor": "#E5ECF6",
           "caxis": {
            "gridcolor": "white",
            "linecolor": "white",
            "ticks": ""
           }
          },
          "title": {
           "x": 0.05
          },
          "xaxis": {
           "automargin": true,
           "gridcolor": "white",
           "linecolor": "white",
           "ticks": "",
           "title": {
            "standoff": 15
           },
           "zerolinecolor": "white",
           "zerolinewidth": 2
          },
          "yaxis": {
           "automargin": true,
           "gridcolor": "white",
           "linecolor": "white",
           "ticks": "",
           "title": {
            "standoff": 15
           },
           "zerolinecolor": "white",
           "zerolinewidth": 2
          }
         }
        },
        "title": {
         "font": {
          "size": 20
         },
         "text": "<b>Confusion Matrix - SVM</b>",
         "x": 0.5
        },
        "updatemenus": [
         {
          "buttons": [
           {
            "args": [
             {
              "visible": [
               true,
               false,
               false,
               false,
               false,
               false
              ]
             }
            ],
            "args2": [
             {
              "title": "<b>Confusion Matrix - SVM</b>"
             }
            ],
            "label": "SVM",
            "method": "update"
           },
           {
            "args": [
             {
              "visible": [
               false,
               true,
               false,
               false,
               false,
               false
              ]
             }
            ],
            "args2": [
             {
              "title": "<b>Confusion Matrix - KNN</b>"
             }
            ],
            "label": "KNN",
            "method": "update"
           },
           {
            "args": [
             {
              "visible": [
               false,
               false,
               true,
               false,
               false,
               false
              ]
             }
            ],
            "args2": [
             {
              "title": "<b>Confusion Matrix - RandomForest</b>"
             }
            ],
            "label": "RandomForest",
            "method": "update"
           },
           {
            "args": [
             {
              "visible": [
               false,
               false,
               false,
               true,
               false,
               false
              ]
             }
            ],
            "args2": [
             {
              "title": "<b>Confusion Matrix - ANN</b>"
             }
            ],
            "label": "ANN",
            "method": "update"
           },
           {
            "args": [
             {
              "visible": [
               false,
               false,
               false,
               false,
               true,
               false
              ]
             }
            ],
            "args2": [
             {
              "title": "<b>Confusion Matrix - DecisionTree</b>"
             }
            ],
            "label": "DecisionTree",
            "method": "update"
           },
           {
            "args": [
             {
              "visible": [
               false,
               false,
               false,
               false,
               false,
               true
              ]
             }
            ],
            "args2": [
             {
              "title": "<b>Confusion Matrix - LogisticRegression</b>"
             }
            ],
            "label": "LogisticRegression",
            "method": "update"
           }
          ],
          "showactive": true,
          "type": "dropdown",
          "x": 1.05,
          "y": 1.1
         }
        ],
        "width": 500,
        "xaxis": {
         "gridcolor": "lightgray",
         "title": {
          "text": "Predicted Label"
         }
        },
        "yaxis": {
         "gridcolor": "lightgray",
         "title": {
          "text": "True Label"
         }
        }
       }
      },
      "text/html": [
       "<div>            <script src=\"https://cdnjs.cloudflare.com/ajax/libs/mathjax/2.7.5/MathJax.js?config=TeX-AMS-MML_SVG\"></script><script type=\"text/javascript\">if (window.MathJax && window.MathJax.Hub && window.MathJax.Hub.Config) {window.MathJax.Hub.Config({SVG: {font: \"STIX-Web\"}});}</script>                <script type=\"text/javascript\">window.PlotlyConfig = {MathJaxConfig: 'local'};</script>\n",
       "        <script charset=\"utf-8\" src=\"https://cdn.plot.ly/plotly-3.0.1.min.js\"></script>                <div id=\"85f3fc09-a515-45b9-ab96-7bad08403c0c\" class=\"plotly-graph-div\" style=\"height:500px; width:500px;\"></div>            <script type=\"text/javascript\">                window.PLOTLYENV=window.PLOTLYENV || {};                                if (document.getElementById(\"85f3fc09-a515-45b9-ab96-7bad08403c0c\")) {                    Plotly.newPlot(                        \"85f3fc09-a515-45b9-ab96-7bad08403c0c\",                        [{\"colorscale\":[[0.0,\"rgb(247,251,255)\"],[0.125,\"rgb(222,235,247)\"],[0.25,\"rgb(198,219,239)\"],[0.375,\"rgb(158,202,225)\"],[0.5,\"rgb(107,174,214)\"],[0.625,\"rgb(66,146,198)\"],[0.75,\"rgb(33,113,181)\"],[0.875,\"rgb(8,81,156)\"],[1.0,\"rgb(8,48,107)\"]],\"hovertemplate\":\"True: %{y}\\u003cbr\\u003ePredicted: %{x}\\u003cbr\\u003eCount: %{z}\\u003cextra\\u003e\\u003c\\u002fextra\\u003e\",\"name\":\"SVM\",\"text\":{\"dtype\":\"i2\",\"bdata\":\"AwAAAAAAAACXAw0AAAABAEAA\",\"shape\":\"3, 3\"},\"texttemplate\":\"%{text}\",\"visible\":true,\"x\":[\"abnormal\",\"normal\",\"warning\"],\"y\":[\"abnormal\",\"normal\",\"warning\"],\"z\":{\"dtype\":\"i2\",\"bdata\":\"AwAAAAAAAACXAw0AAAABAEAA\",\"shape\":\"3, 3\"},\"type\":\"heatmap\"},{\"colorscale\":[[0.0,\"rgb(247,251,255)\"],[0.125,\"rgb(222,235,247)\"],[0.25,\"rgb(198,219,239)\"],[0.375,\"rgb(158,202,225)\"],[0.5,\"rgb(107,174,214)\"],[0.625,\"rgb(66,146,198)\"],[0.75,\"rgb(33,113,181)\"],[0.875,\"rgb(8,81,156)\"],[1.0,\"rgb(8,48,107)\"]],\"hovertemplate\":\"True: %{y}\\u003cbr\\u003ePredicted: %{x}\\u003cbr\\u003eCount: %{z}\\u003cextra\\u003e\\u003c\\u002fextra\\u003e\",\"name\":\"KNN\",\"text\":{\"dtype\":\"i2\",\"bdata\":\"AwAAAAAAAgCVAw0AAAAAAEEA\",\"shape\":\"3, 3\"},\"texttemplate\":\"%{text}\",\"visible\":false,\"x\":[\"abnormal\",\"normal\",\"warning\"],\"y\":[\"abnormal\",\"normal\",\"warning\"],\"z\":{\"dtype\":\"i2\",\"bdata\":\"AwAAAAAAAgCVAw0AAAAAAEEA\",\"shape\":\"3, 3\"},\"type\":\"heatmap\"},{\"colorscale\":[[0.0,\"rgb(247,251,255)\"],[0.125,\"rgb(222,235,247)\"],[0.25,\"rgb(198,219,239)\"],[0.375,\"rgb(158,202,225)\"],[0.5,\"rgb(107,174,214)\"],[0.625,\"rgb(66,146,198)\"],[0.75,\"rgb(33,113,181)\"],[0.875,\"rgb(8,81,156)\"],[1.0,\"rgb(8,48,107)\"]],\"hovertemplate\":\"True: %{y}\\u003cbr\\u003ePredicted: %{x}\\u003cbr\\u003eCount: %{z}\\u003cextra\\u003e\\u003c\\u002fextra\\u003e\",\"name\":\"RandomForest\",\"text\":{\"dtype\":\"i2\",\"bdata\":\"AwAAAAAAAACiAwIAAAAAAEEA\",\"shape\":\"3, 3\"},\"texttemplate\":\"%{text}\",\"visible\":false,\"x\":[\"abnormal\",\"normal\",\"warning\"],\"y\":[\"abnormal\",\"normal\",\"warning\"],\"z\":{\"dtype\":\"i2\",\"bdata\":\"AwAAAAAAAACiAwIAAAAAAEEA\",\"shape\":\"3, 3\"},\"type\":\"heatmap\"},{\"colorscale\":[[0.0,\"rgb(247,251,255)\"],[0.125,\"rgb(222,235,247)\"],[0.25,\"rgb(198,219,239)\"],[0.375,\"rgb(158,202,225)\"],[0.5,\"rgb(107,174,214)\"],[0.625,\"rgb(66,146,198)\"],[0.75,\"rgb(33,113,181)\"],[0.875,\"rgb(8,81,156)\"],[1.0,\"rgb(8,48,107)\"]],\"hovertemplate\":\"True: %{y}\\u003cbr\\u003ePredicted: %{x}\\u003cbr\\u003eCount: %{z}\\u003cextra\\u003e\\u003c\\u002fextra\\u003e\",\"name\":\"ANN\",\"text\":{\"dtype\":\"i2\",\"bdata\":\"AwAAAAAAAgCVAw0AAAABAEAA\",\"shape\":\"3, 3\"},\"texttemplate\":\"%{text}\",\"visible\":false,\"x\":[\"abnormal\",\"normal\",\"warning\"],\"y\":[\"abnormal\",\"normal\",\"warning\"],\"z\":{\"dtype\":\"i2\",\"bdata\":\"AwAAAAAAAgCVAw0AAAABAEAA\",\"shape\":\"3, 3\"},\"type\":\"heatmap\"},{\"colorscale\":[[0.0,\"rgb(247,251,255)\"],[0.125,\"rgb(222,235,247)\"],[0.25,\"rgb(198,219,239)\"],[0.375,\"rgb(158,202,225)\"],[0.5,\"rgb(107,174,214)\"],[0.625,\"rgb(66,146,198)\"],[0.75,\"rgb(33,113,181)\"],[0.875,\"rgb(8,81,156)\"],[1.0,\"rgb(8,48,107)\"]],\"hovertemplate\":\"True: %{y}\\u003cbr\\u003ePredicted: %{x}\\u003cbr\\u003eCount: %{z}\\u003cextra\\u003e\\u003c\\u002fextra\\u003e\",\"name\":\"DecisionTree\",\"text\":{\"dtype\":\"i2\",\"bdata\":\"AwAAAAAAAACfAwUAAAAAAEEA\",\"shape\":\"3, 3\"},\"texttemplate\":\"%{text}\",\"visible\":false,\"x\":[\"abnormal\",\"normal\",\"warning\"],\"y\":[\"abnormal\",\"normal\",\"warning\"],\"z\":{\"dtype\":\"i2\",\"bdata\":\"AwAAAAAAAACfAwUAAAAAAEEA\",\"shape\":\"3, 3\"},\"type\":\"heatmap\"},{\"colorscale\":[[0.0,\"rgb(247,251,255)\"],[0.125,\"rgb(222,235,247)\"],[0.25,\"rgb(198,219,239)\"],[0.375,\"rgb(158,202,225)\"],[0.5,\"rgb(107,174,214)\"],[0.625,\"rgb(66,146,198)\"],[0.75,\"rgb(33,113,181)\"],[0.875,\"rgb(8,81,156)\"],[1.0,\"rgb(8,48,107)\"]],\"hovertemplate\":\"True: %{y}\\u003cbr\\u003ePredicted: %{x}\\u003cbr\\u003eCount: %{z}\\u003cextra\\u003e\\u003c\\u002fextra\\u003e\",\"name\":\"LogisticRegression\",\"text\":{\"dtype\":\"i2\",\"bdata\":\"AwAAAAAAAgA2A2wAAAABAEAA\",\"shape\":\"3, 3\"},\"texttemplate\":\"%{text}\",\"visible\":false,\"x\":[\"abnormal\",\"normal\",\"warning\"],\"y\":[\"abnormal\",\"normal\",\"warning\"],\"z\":{\"dtype\":\"i2\",\"bdata\":\"AwAAAAAAAgA2A2wAAAABAEAA\",\"shape\":\"3, 3\"},\"type\":\"heatmap\"}],                        {\"template\":{\"data\":{\"histogram2dcontour\":[{\"type\":\"histogram2dcontour\",\"colorbar\":{\"outlinewidth\":0,\"ticks\":\"\"},\"colorscale\":[[0.0,\"#0d0887\"],[0.1111111111111111,\"#46039f\"],[0.2222222222222222,\"#7201a8\"],[0.3333333333333333,\"#9c179e\"],[0.4444444444444444,\"#bd3786\"],[0.5555555555555556,\"#d8576b\"],[0.6666666666666666,\"#ed7953\"],[0.7777777777777778,\"#fb9f3a\"],[0.8888888888888888,\"#fdca26\"],[1.0,\"#f0f921\"]]}],\"choropleth\":[{\"type\":\"choropleth\",\"colorbar\":{\"outlinewidth\":0,\"ticks\":\"\"}}],\"histogram2d\":[{\"type\":\"histogram2d\",\"colorbar\":{\"outlinewidth\":0,\"ticks\":\"\"},\"colorscale\":[[0.0,\"#0d0887\"],[0.1111111111111111,\"#46039f\"],[0.2222222222222222,\"#7201a8\"],[0.3333333333333333,\"#9c179e\"],[0.4444444444444444,\"#bd3786\"],[0.5555555555555556,\"#d8576b\"],[0.6666666666666666,\"#ed7953\"],[0.7777777777777778,\"#fb9f3a\"],[0.8888888888888888,\"#fdca26\"],[1.0,\"#f0f921\"]]}],\"heatmap\":[{\"type\":\"heatmap\",\"colorbar\":{\"outlinewidth\":0,\"ticks\":\"\"},\"colorscale\":[[0.0,\"#0d0887\"],[0.1111111111111111,\"#46039f\"],[0.2222222222222222,\"#7201a8\"],[0.3333333333333333,\"#9c179e\"],[0.4444444444444444,\"#bd3786\"],[0.5555555555555556,\"#d8576b\"],[0.6666666666666666,\"#ed7953\"],[0.7777777777777778,\"#fb9f3a\"],[0.8888888888888888,\"#fdca26\"],[1.0,\"#f0f921\"]]}],\"contourcarpet\":[{\"type\":\"contourcarpet\",\"colorbar\":{\"outlinewidth\":0,\"ticks\":\"\"}}],\"contour\":[{\"type\":\"contour\",\"colorbar\":{\"outlinewidth\":0,\"ticks\":\"\"},\"colorscale\":[[0.0,\"#0d0887\"],[0.1111111111111111,\"#46039f\"],[0.2222222222222222,\"#7201a8\"],[0.3333333333333333,\"#9c179e\"],[0.4444444444444444,\"#bd3786\"],[0.5555555555555556,\"#d8576b\"],[0.6666666666666666,\"#ed7953\"],[0.7777777777777778,\"#fb9f3a\"],[0.8888888888888888,\"#fdca26\"],[1.0,\"#f0f921\"]]}],\"surface\":[{\"type\":\"surface\",\"colorbar\":{\"outlinewidth\":0,\"ticks\":\"\"},\"colorscale\":[[0.0,\"#0d0887\"],[0.1111111111111111,\"#46039f\"],[0.2222222222222222,\"#7201a8\"],[0.3333333333333333,\"#9c179e\"],[0.4444444444444444,\"#bd3786\"],[0.5555555555555556,\"#d8576b\"],[0.6666666666666666,\"#ed7953\"],[0.7777777777777778,\"#fb9f3a\"],[0.8888888888888888,\"#fdca26\"],[1.0,\"#f0f921\"]]}],\"mesh3d\":[{\"type\":\"mesh3d\",\"colorbar\":{\"outlinewidth\":0,\"ticks\":\"\"}}],\"scatter\":[{\"fillpattern\":{\"fillmode\":\"overlay\",\"size\":10,\"solidity\":0.2},\"type\":\"scatter\"}],\"parcoords\":[{\"type\":\"parcoords\",\"line\":{\"colorbar\":{\"outlinewidth\":0,\"ticks\":\"\"}}}],\"scatterpolargl\":[{\"type\":\"scatterpolargl\",\"marker\":{\"colorbar\":{\"outlinewidth\":0,\"ticks\":\"\"}}}],\"bar\":[{\"error_x\":{\"color\":\"#2a3f5f\"},\"error_y\":{\"color\":\"#2a3f5f\"},\"marker\":{\"line\":{\"color\":\"#E5ECF6\",\"width\":0.5},\"pattern\":{\"fillmode\":\"overlay\",\"size\":10,\"solidity\":0.2}},\"type\":\"bar\"}],\"scattergeo\":[{\"type\":\"scattergeo\",\"marker\":{\"colorbar\":{\"outlinewidth\":0,\"ticks\":\"\"}}}],\"scatterpolar\":[{\"type\":\"scatterpolar\",\"marker\":{\"colorbar\":{\"outlinewidth\":0,\"ticks\":\"\"}}}],\"histogram\":[{\"marker\":{\"pattern\":{\"fillmode\":\"overlay\",\"size\":10,\"solidity\":0.2}},\"type\":\"histogram\"}],\"scattergl\":[{\"type\":\"scattergl\",\"marker\":{\"colorbar\":{\"outlinewidth\":0,\"ticks\":\"\"}}}],\"scatter3d\":[{\"type\":\"scatter3d\",\"line\":{\"colorbar\":{\"outlinewidth\":0,\"ticks\":\"\"}},\"marker\":{\"colorbar\":{\"outlinewidth\":0,\"ticks\":\"\"}}}],\"scattermap\":[{\"type\":\"scattermap\",\"marker\":{\"colorbar\":{\"outlinewidth\":0,\"ticks\":\"\"}}}],\"scattermapbox\":[{\"type\":\"scattermapbox\",\"marker\":{\"colorbar\":{\"outlinewidth\":0,\"ticks\":\"\"}}}],\"scatterternary\":[{\"type\":\"scatterternary\",\"marker\":{\"colorbar\":{\"outlinewidth\":0,\"ticks\":\"\"}}}],\"scattercarpet\":[{\"type\":\"scattercarpet\",\"marker\":{\"colorbar\":{\"outlinewidth\":0,\"ticks\":\"\"}}}],\"carpet\":[{\"aaxis\":{\"endlinecolor\":\"#2a3f5f\",\"gridcolor\":\"white\",\"linecolor\":\"white\",\"minorgridcolor\":\"white\",\"startlinecolor\":\"#2a3f5f\"},\"baxis\":{\"endlinecolor\":\"#2a3f5f\",\"gridcolor\":\"white\",\"linecolor\":\"white\",\"minorgridcolor\":\"white\",\"startlinecolor\":\"#2a3f5f\"},\"type\":\"carpet\"}],\"table\":[{\"cells\":{\"fill\":{\"color\":\"#EBF0F8\"},\"line\":{\"color\":\"white\"}},\"header\":{\"fill\":{\"color\":\"#C8D4E3\"},\"line\":{\"color\":\"white\"}},\"type\":\"table\"}],\"barpolar\":[{\"marker\":{\"line\":{\"color\":\"#E5ECF6\",\"width\":0.5},\"pattern\":{\"fillmode\":\"overlay\",\"size\":10,\"solidity\":0.2}},\"type\":\"barpolar\"}],\"pie\":[{\"automargin\":true,\"type\":\"pie\"}]},\"layout\":{\"autotypenumbers\":\"strict\",\"colorway\":[\"#636efa\",\"#EF553B\",\"#00cc96\",\"#ab63fa\",\"#FFA15A\",\"#19d3f3\",\"#FF6692\",\"#B6E880\",\"#FF97FF\",\"#FECB52\"],\"font\":{\"color\":\"#2a3f5f\"},\"hovermode\":\"closest\",\"hoverlabel\":{\"align\":\"left\"},\"paper_bgcolor\":\"white\",\"plot_bgcolor\":\"#E5ECF6\",\"polar\":{\"bgcolor\":\"#E5ECF6\",\"angularaxis\":{\"gridcolor\":\"white\",\"linecolor\":\"white\",\"ticks\":\"\"},\"radialaxis\":{\"gridcolor\":\"white\",\"linecolor\":\"white\",\"ticks\":\"\"}},\"ternary\":{\"bgcolor\":\"#E5ECF6\",\"aaxis\":{\"gridcolor\":\"white\",\"linecolor\":\"white\",\"ticks\":\"\"},\"baxis\":{\"gridcolor\":\"white\",\"linecolor\":\"white\",\"ticks\":\"\"},\"caxis\":{\"gridcolor\":\"white\",\"linecolor\":\"white\",\"ticks\":\"\"}},\"coloraxis\":{\"colorbar\":{\"outlinewidth\":0,\"ticks\":\"\"}},\"colorscale\":{\"sequential\":[[0.0,\"#0d0887\"],[0.1111111111111111,\"#46039f\"],[0.2222222222222222,\"#7201a8\"],[0.3333333333333333,\"#9c179e\"],[0.4444444444444444,\"#bd3786\"],[0.5555555555555556,\"#d8576b\"],[0.6666666666666666,\"#ed7953\"],[0.7777777777777778,\"#fb9f3a\"],[0.8888888888888888,\"#fdca26\"],[1.0,\"#f0f921\"]],\"sequentialminus\":[[0.0,\"#0d0887\"],[0.1111111111111111,\"#46039f\"],[0.2222222222222222,\"#7201a8\"],[0.3333333333333333,\"#9c179e\"],[0.4444444444444444,\"#bd3786\"],[0.5555555555555556,\"#d8576b\"],[0.6666666666666666,\"#ed7953\"],[0.7777777777777778,\"#fb9f3a\"],[0.8888888888888888,\"#fdca26\"],[1.0,\"#f0f921\"]],\"diverging\":[[0,\"#8e0152\"],[0.1,\"#c51b7d\"],[0.2,\"#de77ae\"],[0.3,\"#f1b6da\"],[0.4,\"#fde0ef\"],[0.5,\"#f7f7f7\"],[0.6,\"#e6f5d0\"],[0.7,\"#b8e186\"],[0.8,\"#7fbc41\"],[0.9,\"#4d9221\"],[1,\"#276419\"]]},\"xaxis\":{\"gridcolor\":\"white\",\"linecolor\":\"white\",\"ticks\":\"\",\"title\":{\"standoff\":15},\"zerolinecolor\":\"white\",\"automargin\":true,\"zerolinewidth\":2},\"yaxis\":{\"gridcolor\":\"white\",\"linecolor\":\"white\",\"ticks\":\"\",\"title\":{\"standoff\":15},\"zerolinecolor\":\"white\",\"automargin\":true,\"zerolinewidth\":2},\"scene\":{\"xaxis\":{\"backgroundcolor\":\"#E5ECF6\",\"gridcolor\":\"white\",\"linecolor\":\"white\",\"showbackground\":true,\"ticks\":\"\",\"zerolinecolor\":\"white\",\"gridwidth\":2},\"yaxis\":{\"backgroundcolor\":\"#E5ECF6\",\"gridcolor\":\"white\",\"linecolor\":\"white\",\"showbackground\":true,\"ticks\":\"\",\"zerolinecolor\":\"white\",\"gridwidth\":2},\"zaxis\":{\"backgroundcolor\":\"#E5ECF6\",\"gridcolor\":\"white\",\"linecolor\":\"white\",\"showbackground\":true,\"ticks\":\"\",\"zerolinecolor\":\"white\",\"gridwidth\":2}},\"shapedefaults\":{\"line\":{\"color\":\"#2a3f5f\"}},\"annotationdefaults\":{\"arrowcolor\":\"#2a3f5f\",\"arrowhead\":0,\"arrowwidth\":1},\"geo\":{\"bgcolor\":\"white\",\"landcolor\":\"#E5ECF6\",\"subunitcolor\":\"white\",\"showland\":true,\"showlakes\":true,\"lakecolor\":\"white\"},\"title\":{\"x\":0.05},\"mapbox\":{\"style\":\"light\"}}},\"title\":{\"font\":{\"size\":20},\"text\":\"\\u003cb\\u003eConfusion Matrix - SVM\\u003c\\u002fb\\u003e\",\"x\":0.5},\"xaxis\":{\"title\":{\"text\":\"Predicted Label\"},\"gridcolor\":\"lightgray\"},\"yaxis\":{\"title\":{\"text\":\"True Label\"},\"gridcolor\":\"lightgray\"},\"updatemenus\":[{\"buttons\":[{\"args\":[{\"visible\":[true,false,false,false,false,false]}],\"args2\":[{\"title\":\"\\u003cb\\u003eConfusion Matrix - SVM\\u003c\\u002fb\\u003e\"}],\"label\":\"SVM\",\"method\":\"update\"},{\"args\":[{\"visible\":[false,true,false,false,false,false]}],\"args2\":[{\"title\":\"\\u003cb\\u003eConfusion Matrix - KNN\\u003c\\u002fb\\u003e\"}],\"label\":\"KNN\",\"method\":\"update\"},{\"args\":[{\"visible\":[false,false,true,false,false,false]}],\"args2\":[{\"title\":\"\\u003cb\\u003eConfusion Matrix - RandomForest\\u003c\\u002fb\\u003e\"}],\"label\":\"RandomForest\",\"method\":\"update\"},{\"args\":[{\"visible\":[false,false,false,true,false,false]}],\"args2\":[{\"title\":\"\\u003cb\\u003eConfusion Matrix - ANN\\u003c\\u002fb\\u003e\"}],\"label\":\"ANN\",\"method\":\"update\"},{\"args\":[{\"visible\":[false,false,false,false,true,false]}],\"args2\":[{\"title\":\"\\u003cb\\u003eConfusion Matrix - DecisionTree\\u003c\\u002fb\\u003e\"}],\"label\":\"DecisionTree\",\"method\":\"update\"},{\"args\":[{\"visible\":[false,false,false,false,false,true]}],\"args2\":[{\"title\":\"\\u003cb\\u003eConfusion Matrix - LogisticRegression\\u003c\\u002fb\\u003e\"}],\"label\":\"LogisticRegression\",\"method\":\"update\"}],\"showactive\":true,\"type\":\"dropdown\",\"x\":1.05,\"y\":1.1}],\"plot_bgcolor\":\"white\",\"height\":500,\"width\":500},                        {\"responsive\": true}                    ).then(function(){\n",
       "                            \n",
       "var gd = document.getElementById('85f3fc09-a515-45b9-ab96-7bad08403c0c');\n",
       "var x = new MutationObserver(function (mutations, observer) {{\n",
       "        var display = window.getComputedStyle(gd).display;\n",
       "        if (!display || display === 'none') {{\n",
       "            console.log([gd, 'removed!']);\n",
       "            Plotly.purge(gd);\n",
       "            observer.disconnect();\n",
       "        }}\n",
       "}});\n",
       "\n",
       "// Listen for the removal of the full notebook cells\n",
       "var notebookContainer = gd.closest('#notebook-container');\n",
       "if (notebookContainer) {{\n",
       "    x.observe(notebookContainer, {childList: true});\n",
       "}}\n",
       "\n",
       "// Listen for the clearing of the current output cell\n",
       "var outputEl = gd.closest('.output');\n",
       "if (outputEl) {{\n",
       "    x.observe(outputEl, {childList: true});\n",
       "}}\n",
       "\n",
       "                        })                };            </script>        </div>"
      ]
     },
     "metadata": {},
     "output_type": "display_data"
    },
    {
     "data": {
      "application/vnd.plotly.v1+json": {
       "config": {
        "plotlyServerURL": "https://plot.ly"
       },
       "data": [
        {
         "hovertemplate": "abnormal Accuracy: %{y:.4f}<extra></extra>",
         "marker": {
          "color": "royalblue"
         },
         "name": "abnormal",
         "offset": -0.225,
         "opacity": 0.8,
         "type": "bar",
         "width": 0.15,
         "x": [
          "SVM",
          "KNN",
          "RandomForest",
          "ANN",
          "DecisionTree",
          "LogisticRegression"
         ],
         "y": [
          1,
          1,
          1,
          1,
          1,
          1
         ]
        },
        {
         "hovertemplate": "normal Accuracy: %{y:.4f}<extra></extra>",
         "marker": {
          "color": "firebrick"
         },
         "name": "normal",
         "offset": -0.07500000000000001,
         "opacity": 0.8,
         "type": "bar",
         "width": 0.15,
         "x": [
          "SVM",
          "KNN",
          "RandomForest",
          "ANN",
          "DecisionTree",
          "LogisticRegression"
         ],
         "y": [
          0.9860515021459227,
          0.9839055793991416,
          0.9978540772532188,
          0.9839055793991416,
          0.9946351931330472,
          0.8819742489270386
         ]
        },
        {
         "hovertemplate": "warning Accuracy: %{y:.4f}<extra></extra>",
         "marker": {
          "color": "forestgreen"
         },
         "name": "warning",
         "offset": 0.07499999999999998,
         "opacity": 0.8,
         "type": "bar",
         "width": 0.15,
         "x": [
          "SVM",
          "KNN",
          "RandomForest",
          "ANN",
          "DecisionTree",
          "LogisticRegression"
         ],
         "y": [
          0.9846153846153847,
          1,
          1,
          0.9846153846153847,
          1,
          0.9846153846153847
         ]
        }
       ],
       "layout": {
        "annotations": [
         {
          "showarrow": false,
          "text": "Threshold (0.8)",
          "x": 1,
          "xanchor": "right",
          "xref": "x domain",
          "y": 0.8,
          "yanchor": "top",
          "yref": "y"
         }
        ],
        "barmode": "group",
        "height": 600,
        "hovermode": "x unified",
        "legend": {
         "bgcolor": "rgba(255,255,255,0.5)",
         "x": 1.05,
         "y": 1
        },
        "margin": {
         "b": 150
        },
        "plot_bgcolor": "white",
        "shapes": [
         {
          "line": {
           "color": "orange",
           "dash": "dash"
          },
          "type": "line",
          "x0": 0,
          "x1": 1,
          "xref": "x domain",
          "y0": 0.8,
          "y1": 0.8,
          "yref": "y"
         }
        ],
        "template": {
         "data": {
          "bar": [
           {
            "error_x": {
             "color": "#2a3f5f"
            },
            "error_y": {
             "color": "#2a3f5f"
            },
            "marker": {
             "line": {
              "color": "#E5ECF6",
              "width": 0.5
             },
             "pattern": {
              "fillmode": "overlay",
              "size": 10,
              "solidity": 0.2
             }
            },
            "type": "bar"
           }
          ],
          "barpolar": [
           {
            "marker": {
             "line": {
              "color": "#E5ECF6",
              "width": 0.5
             },
             "pattern": {
              "fillmode": "overlay",
              "size": 10,
              "solidity": 0.2
             }
            },
            "type": "barpolar"
           }
          ],
          "carpet": [
           {
            "aaxis": {
             "endlinecolor": "#2a3f5f",
             "gridcolor": "white",
             "linecolor": "white",
             "minorgridcolor": "white",
             "startlinecolor": "#2a3f5f"
            },
            "baxis": {
             "endlinecolor": "#2a3f5f",
             "gridcolor": "white",
             "linecolor": "white",
             "minorgridcolor": "white",
             "startlinecolor": "#2a3f5f"
            },
            "type": "carpet"
           }
          ],
          "choropleth": [
           {
            "colorbar": {
             "outlinewidth": 0,
             "ticks": ""
            },
            "type": "choropleth"
           }
          ],
          "contour": [
           {
            "colorbar": {
             "outlinewidth": 0,
             "ticks": ""
            },
            "colorscale": [
             [
              0,
              "#0d0887"
             ],
             [
              0.1111111111111111,
              "#46039f"
             ],
             [
              0.2222222222222222,
              "#7201a8"
             ],
             [
              0.3333333333333333,
              "#9c179e"
             ],
             [
              0.4444444444444444,
              "#bd3786"
             ],
             [
              0.5555555555555556,
              "#d8576b"
             ],
             [
              0.6666666666666666,
              "#ed7953"
             ],
             [
              0.7777777777777778,
              "#fb9f3a"
             ],
             [
              0.8888888888888888,
              "#fdca26"
             ],
             [
              1,
              "#f0f921"
             ]
            ],
            "type": "contour"
           }
          ],
          "contourcarpet": [
           {
            "colorbar": {
             "outlinewidth": 0,
             "ticks": ""
            },
            "type": "contourcarpet"
           }
          ],
          "heatmap": [
           {
            "colorbar": {
             "outlinewidth": 0,
             "ticks": ""
            },
            "colorscale": [
             [
              0,
              "#0d0887"
             ],
             [
              0.1111111111111111,
              "#46039f"
             ],
             [
              0.2222222222222222,
              "#7201a8"
             ],
             [
              0.3333333333333333,
              "#9c179e"
             ],
             [
              0.4444444444444444,
              "#bd3786"
             ],
             [
              0.5555555555555556,
              "#d8576b"
             ],
             [
              0.6666666666666666,
              "#ed7953"
             ],
             [
              0.7777777777777778,
              "#fb9f3a"
             ],
             [
              0.8888888888888888,
              "#fdca26"
             ],
             [
              1,
              "#f0f921"
             ]
            ],
            "type": "heatmap"
           }
          ],
          "histogram": [
           {
            "marker": {
             "pattern": {
              "fillmode": "overlay",
              "size": 10,
              "solidity": 0.2
             }
            },
            "type": "histogram"
           }
          ],
          "histogram2d": [
           {
            "colorbar": {
             "outlinewidth": 0,
             "ticks": ""
            },
            "colorscale": [
             [
              0,
              "#0d0887"
             ],
             [
              0.1111111111111111,
              "#46039f"
             ],
             [
              0.2222222222222222,
              "#7201a8"
             ],
             [
              0.3333333333333333,
              "#9c179e"
             ],
             [
              0.4444444444444444,
              "#bd3786"
             ],
             [
              0.5555555555555556,
              "#d8576b"
             ],
             [
              0.6666666666666666,
              "#ed7953"
             ],
             [
              0.7777777777777778,
              "#fb9f3a"
             ],
             [
              0.8888888888888888,
              "#fdca26"
             ],
             [
              1,
              "#f0f921"
             ]
            ],
            "type": "histogram2d"
           }
          ],
          "histogram2dcontour": [
           {
            "colorbar": {
             "outlinewidth": 0,
             "ticks": ""
            },
            "colorscale": [
             [
              0,
              "#0d0887"
             ],
             [
              0.1111111111111111,
              "#46039f"
             ],
             [
              0.2222222222222222,
              "#7201a8"
             ],
             [
              0.3333333333333333,
              "#9c179e"
             ],
             [
              0.4444444444444444,
              "#bd3786"
             ],
             [
              0.5555555555555556,
              "#d8576b"
             ],
             [
              0.6666666666666666,
              "#ed7953"
             ],
             [
              0.7777777777777778,
              "#fb9f3a"
             ],
             [
              0.8888888888888888,
              "#fdca26"
             ],
             [
              1,
              "#f0f921"
             ]
            ],
            "type": "histogram2dcontour"
           }
          ],
          "mesh3d": [
           {
            "colorbar": {
             "outlinewidth": 0,
             "ticks": ""
            },
            "type": "mesh3d"
           }
          ],
          "parcoords": [
           {
            "line": {
             "colorbar": {
              "outlinewidth": 0,
              "ticks": ""
             }
            },
            "type": "parcoords"
           }
          ],
          "pie": [
           {
            "automargin": true,
            "type": "pie"
           }
          ],
          "scatter": [
           {
            "fillpattern": {
             "fillmode": "overlay",
             "size": 10,
             "solidity": 0.2
            },
            "type": "scatter"
           }
          ],
          "scatter3d": [
           {
            "line": {
             "colorbar": {
              "outlinewidth": 0,
              "ticks": ""
             }
            },
            "marker": {
             "colorbar": {
              "outlinewidth": 0,
              "ticks": ""
             }
            },
            "type": "scatter3d"
           }
          ],
          "scattercarpet": [
           {
            "marker": {
             "colorbar": {
              "outlinewidth": 0,
              "ticks": ""
             }
            },
            "type": "scattercarpet"
           }
          ],
          "scattergeo": [
           {
            "marker": {
             "colorbar": {
              "outlinewidth": 0,
              "ticks": ""
             }
            },
            "type": "scattergeo"
           }
          ],
          "scattergl": [
           {
            "marker": {
             "colorbar": {
              "outlinewidth": 0,
              "ticks": ""
             }
            },
            "type": "scattergl"
           }
          ],
          "scattermap": [
           {
            "marker": {
             "colorbar": {
              "outlinewidth": 0,
              "ticks": ""
             }
            },
            "type": "scattermap"
           }
          ],
          "scattermapbox": [
           {
            "marker": {
             "colorbar": {
              "outlinewidth": 0,
              "ticks": ""
             }
            },
            "type": "scattermapbox"
           }
          ],
          "scatterpolar": [
           {
            "marker": {
             "colorbar": {
              "outlinewidth": 0,
              "ticks": ""
             }
            },
            "type": "scatterpolar"
           }
          ],
          "scatterpolargl": [
           {
            "marker": {
             "colorbar": {
              "outlinewidth": 0,
              "ticks": ""
             }
            },
            "type": "scatterpolargl"
           }
          ],
          "scatterternary": [
           {
            "marker": {
             "colorbar": {
              "outlinewidth": 0,
              "ticks": ""
             }
            },
            "type": "scatterternary"
           }
          ],
          "surface": [
           {
            "colorbar": {
             "outlinewidth": 0,
             "ticks": ""
            },
            "colorscale": [
             [
              0,
              "#0d0887"
             ],
             [
              0.1111111111111111,
              "#46039f"
             ],
             [
              0.2222222222222222,
              "#7201a8"
             ],
             [
              0.3333333333333333,
              "#9c179e"
             ],
             [
              0.4444444444444444,
              "#bd3786"
             ],
             [
              0.5555555555555556,
              "#d8576b"
             ],
             [
              0.6666666666666666,
              "#ed7953"
             ],
             [
              0.7777777777777778,
              "#fb9f3a"
             ],
             [
              0.8888888888888888,
              "#fdca26"
             ],
             [
              1,
              "#f0f921"
             ]
            ],
            "type": "surface"
           }
          ],
          "table": [
           {
            "cells": {
             "fill": {
              "color": "#EBF0F8"
             },
             "line": {
              "color": "white"
             }
            },
            "header": {
             "fill": {
              "color": "#C8D4E3"
             },
             "line": {
              "color": "white"
             }
            },
            "type": "table"
           }
          ]
         },
         "layout": {
          "annotationdefaults": {
           "arrowcolor": "#2a3f5f",
           "arrowhead": 0,
           "arrowwidth": 1
          },
          "autotypenumbers": "strict",
          "coloraxis": {
           "colorbar": {
            "outlinewidth": 0,
            "ticks": ""
           }
          },
          "colorscale": {
           "diverging": [
            [
             0,
             "#8e0152"
            ],
            [
             0.1,
             "#c51b7d"
            ],
            [
             0.2,
             "#de77ae"
            ],
            [
             0.3,
             "#f1b6da"
            ],
            [
             0.4,
             "#fde0ef"
            ],
            [
             0.5,
             "#f7f7f7"
            ],
            [
             0.6,
             "#e6f5d0"
            ],
            [
             0.7,
             "#b8e186"
            ],
            [
             0.8,
             "#7fbc41"
            ],
            [
             0.9,
             "#4d9221"
            ],
            [
             1,
             "#276419"
            ]
           ],
           "sequential": [
            [
             0,
             "#0d0887"
            ],
            [
             0.1111111111111111,
             "#46039f"
            ],
            [
             0.2222222222222222,
             "#7201a8"
            ],
            [
             0.3333333333333333,
             "#9c179e"
            ],
            [
             0.4444444444444444,
             "#bd3786"
            ],
            [
             0.5555555555555556,
             "#d8576b"
            ],
            [
             0.6666666666666666,
             "#ed7953"
            ],
            [
             0.7777777777777778,
             "#fb9f3a"
            ],
            [
             0.8888888888888888,
             "#fdca26"
            ],
            [
             1,
             "#f0f921"
            ]
           ],
           "sequentialminus": [
            [
             0,
             "#0d0887"
            ],
            [
             0.1111111111111111,
             "#46039f"
            ],
            [
             0.2222222222222222,
             "#7201a8"
            ],
            [
             0.3333333333333333,
             "#9c179e"
            ],
            [
             0.4444444444444444,
             "#bd3786"
            ],
            [
             0.5555555555555556,
             "#d8576b"
            ],
            [
             0.6666666666666666,
             "#ed7953"
            ],
            [
             0.7777777777777778,
             "#fb9f3a"
            ],
            [
             0.8888888888888888,
             "#fdca26"
            ],
            [
             1,
             "#f0f921"
            ]
           ]
          },
          "colorway": [
           "#636efa",
           "#EF553B",
           "#00cc96",
           "#ab63fa",
           "#FFA15A",
           "#19d3f3",
           "#FF6692",
           "#B6E880",
           "#FF97FF",
           "#FECB52"
          ],
          "font": {
           "color": "#2a3f5f"
          },
          "geo": {
           "bgcolor": "white",
           "lakecolor": "white",
           "landcolor": "#E5ECF6",
           "showlakes": true,
           "showland": true,
           "subunitcolor": "white"
          },
          "hoverlabel": {
           "align": "left"
          },
          "hovermode": "closest",
          "mapbox": {
           "style": "light"
          },
          "paper_bgcolor": "white",
          "plot_bgcolor": "#E5ECF6",
          "polar": {
           "angularaxis": {
            "gridcolor": "white",
            "linecolor": "white",
            "ticks": ""
           },
           "bgcolor": "#E5ECF6",
           "radialaxis": {
            "gridcolor": "white",
            "linecolor": "white",
            "ticks": ""
           }
          },
          "scene": {
           "xaxis": {
            "backgroundcolor": "#E5ECF6",
            "gridcolor": "white",
            "gridwidth": 2,
            "linecolor": "white",
            "showbackground": true,
            "ticks": "",
            "zerolinecolor": "white"
           },
           "yaxis": {
            "backgroundcolor": "#E5ECF6",
            "gridcolor": "white",
            "gridwidth": 2,
            "linecolor": "white",
            "showbackground": true,
            "ticks": "",
            "zerolinecolor": "white"
           },
           "zaxis": {
            "backgroundcolor": "#E5ECF6",
            "gridcolor": "white",
            "gridwidth": 2,
            "linecolor": "white",
            "showbackground": true,
            "ticks": "",
            "zerolinecolor": "white"
           }
          },
          "shapedefaults": {
           "line": {
            "color": "#2a3f5f"
           }
          },
          "ternary": {
           "aaxis": {
            "gridcolor": "white",
            "linecolor": "white",
            "ticks": ""
           },
           "baxis": {
            "gridcolor": "white",
            "linecolor": "white",
            "ticks": ""
           },
           "bgcolor": "#E5ECF6",
           "caxis": {
            "gridcolor": "white",
            "linecolor": "white",
            "ticks": ""
           }
          },
          "title": {
           "x": 0.05
          },
          "xaxis": {
           "automargin": true,
           "gridcolor": "white",
           "linecolor": "white",
           "ticks": "",
           "title": {
            "standoff": 15
           },
           "zerolinecolor": "white",
           "zerolinewidth": 2
          },
          "yaxis": {
           "automargin": true,
           "gridcolor": "white",
           "linecolor": "white",
           "ticks": "",
           "title": {
            "standoff": 15
           },
           "zerolinecolor": "white",
           "zerolinewidth": 2
          }
         }
        },
        "title": {
         "font": {
          "size": 20
         },
         "text": "<b>Per-Class Accuracy Comparison</b>",
         "x": 0.5
        },
        "xaxis": {
         "gridcolor": "lightgray",
         "tickangle": 45,
         "title": {
          "text": "Model"
         }
        },
        "yaxis": {
         "gridcolor": "lightgray",
         "range": [
          0,
          1.05
         ],
         "tickfont": {
          "color": "black"
         },
         "title": {
          "text": "Accuracy"
         }
        }
       }
      },
      "text/html": [
       "<div>            <script src=\"https://cdnjs.cloudflare.com/ajax/libs/mathjax/2.7.5/MathJax.js?config=TeX-AMS-MML_SVG\"></script><script type=\"text/javascript\">if (window.MathJax && window.MathJax.Hub && window.MathJax.Hub.Config) {window.MathJax.Hub.Config({SVG: {font: \"STIX-Web\"}});}</script>                <script type=\"text/javascript\">window.PlotlyConfig = {MathJaxConfig: 'local'};</script>\n",
       "        <script charset=\"utf-8\" src=\"https://cdn.plot.ly/plotly-3.0.1.min.js\"></script>                <div id=\"f91ff172-c4da-40bd-9492-58eb5660aef2\" class=\"plotly-graph-div\" style=\"height:600px; width:100%;\"></div>            <script type=\"text/javascript\">                window.PLOTLYENV=window.PLOTLYENV || {};                                if (document.getElementById(\"f91ff172-c4da-40bd-9492-58eb5660aef2\")) {                    Plotly.newPlot(                        \"f91ff172-c4da-40bd-9492-58eb5660aef2\",                        [{\"hovertemplate\":\"abnormal Accuracy: %{y:.4f}\\u003cextra\\u003e\\u003c\\u002fextra\\u003e\",\"marker\":{\"color\":\"royalblue\"},\"name\":\"abnormal\",\"offset\":-0.225,\"opacity\":0.8,\"width\":0.15,\"x\":[\"SVM\",\"KNN\",\"RandomForest\",\"ANN\",\"DecisionTree\",\"LogisticRegression\"],\"y\":[1.0,1.0,1.0,1.0,1.0,1.0],\"type\":\"bar\"},{\"hovertemplate\":\"normal Accuracy: %{y:.4f}\\u003cextra\\u003e\\u003c\\u002fextra\\u003e\",\"marker\":{\"color\":\"firebrick\"},\"name\":\"normal\",\"offset\":-0.07500000000000001,\"opacity\":0.8,\"width\":0.15,\"x\":[\"SVM\",\"KNN\",\"RandomForest\",\"ANN\",\"DecisionTree\",\"LogisticRegression\"],\"y\":[0.9860515021459227,0.9839055793991416,0.9978540772532188,0.9839055793991416,0.9946351931330472,0.8819742489270386],\"type\":\"bar\"},{\"hovertemplate\":\"warning Accuracy: %{y:.4f}\\u003cextra\\u003e\\u003c\\u002fextra\\u003e\",\"marker\":{\"color\":\"forestgreen\"},\"name\":\"warning\",\"offset\":0.07499999999999998,\"opacity\":0.8,\"width\":0.15,\"x\":[\"SVM\",\"KNN\",\"RandomForest\",\"ANN\",\"DecisionTree\",\"LogisticRegression\"],\"y\":[0.9846153846153847,1.0,1.0,0.9846153846153847,1.0,0.9846153846153847],\"type\":\"bar\"}],                        {\"template\":{\"data\":{\"histogram2dcontour\":[{\"type\":\"histogram2dcontour\",\"colorbar\":{\"outlinewidth\":0,\"ticks\":\"\"},\"colorscale\":[[0.0,\"#0d0887\"],[0.1111111111111111,\"#46039f\"],[0.2222222222222222,\"#7201a8\"],[0.3333333333333333,\"#9c179e\"],[0.4444444444444444,\"#bd3786\"],[0.5555555555555556,\"#d8576b\"],[0.6666666666666666,\"#ed7953\"],[0.7777777777777778,\"#fb9f3a\"],[0.8888888888888888,\"#fdca26\"],[1.0,\"#f0f921\"]]}],\"choropleth\":[{\"type\":\"choropleth\",\"colorbar\":{\"outlinewidth\":0,\"ticks\":\"\"}}],\"histogram2d\":[{\"type\":\"histogram2d\",\"colorbar\":{\"outlinewidth\":0,\"ticks\":\"\"},\"colorscale\":[[0.0,\"#0d0887\"],[0.1111111111111111,\"#46039f\"],[0.2222222222222222,\"#7201a8\"],[0.3333333333333333,\"#9c179e\"],[0.4444444444444444,\"#bd3786\"],[0.5555555555555556,\"#d8576b\"],[0.6666666666666666,\"#ed7953\"],[0.7777777777777778,\"#fb9f3a\"],[0.8888888888888888,\"#fdca26\"],[1.0,\"#f0f921\"]]}],\"heatmap\":[{\"type\":\"heatmap\",\"colorbar\":{\"outlinewidth\":0,\"ticks\":\"\"},\"colorscale\":[[0.0,\"#0d0887\"],[0.1111111111111111,\"#46039f\"],[0.2222222222222222,\"#7201a8\"],[0.3333333333333333,\"#9c179e\"],[0.4444444444444444,\"#bd3786\"],[0.5555555555555556,\"#d8576b\"],[0.6666666666666666,\"#ed7953\"],[0.7777777777777778,\"#fb9f3a\"],[0.8888888888888888,\"#fdca26\"],[1.0,\"#f0f921\"]]}],\"contourcarpet\":[{\"type\":\"contourcarpet\",\"colorbar\":{\"outlinewidth\":0,\"ticks\":\"\"}}],\"contour\":[{\"type\":\"contour\",\"colorbar\":{\"outlinewidth\":0,\"ticks\":\"\"},\"colorscale\":[[0.0,\"#0d0887\"],[0.1111111111111111,\"#46039f\"],[0.2222222222222222,\"#7201a8\"],[0.3333333333333333,\"#9c179e\"],[0.4444444444444444,\"#bd3786\"],[0.5555555555555556,\"#d8576b\"],[0.6666666666666666,\"#ed7953\"],[0.7777777777777778,\"#fb9f3a\"],[0.8888888888888888,\"#fdca26\"],[1.0,\"#f0f921\"]]}],\"surface\":[{\"type\":\"surface\",\"colorbar\":{\"outlinewidth\":0,\"ticks\":\"\"},\"colorscale\":[[0.0,\"#0d0887\"],[0.1111111111111111,\"#46039f\"],[0.2222222222222222,\"#7201a8\"],[0.3333333333333333,\"#9c179e\"],[0.4444444444444444,\"#bd3786\"],[0.5555555555555556,\"#d8576b\"],[0.6666666666666666,\"#ed7953\"],[0.7777777777777778,\"#fb9f3a\"],[0.8888888888888888,\"#fdca26\"],[1.0,\"#f0f921\"]]}],\"mesh3d\":[{\"type\":\"mesh3d\",\"colorbar\":{\"outlinewidth\":0,\"ticks\":\"\"}}],\"scatter\":[{\"fillpattern\":{\"fillmode\":\"overlay\",\"size\":10,\"solidity\":0.2},\"type\":\"scatter\"}],\"parcoords\":[{\"type\":\"parcoords\",\"line\":{\"colorbar\":{\"outlinewidth\":0,\"ticks\":\"\"}}}],\"scatterpolargl\":[{\"type\":\"scatterpolargl\",\"marker\":{\"colorbar\":{\"outlinewidth\":0,\"ticks\":\"\"}}}],\"bar\":[{\"error_x\":{\"color\":\"#2a3f5f\"},\"error_y\":{\"color\":\"#2a3f5f\"},\"marker\":{\"line\":{\"color\":\"#E5ECF6\",\"width\":0.5},\"pattern\":{\"fillmode\":\"overlay\",\"size\":10,\"solidity\":0.2}},\"type\":\"bar\"}],\"scattergeo\":[{\"type\":\"scattergeo\",\"marker\":{\"colorbar\":{\"outlinewidth\":0,\"ticks\":\"\"}}}],\"scatterpolar\":[{\"type\":\"scatterpolar\",\"marker\":{\"colorbar\":{\"outlinewidth\":0,\"ticks\":\"\"}}}],\"histogram\":[{\"marker\":{\"pattern\":{\"fillmode\":\"overlay\",\"size\":10,\"solidity\":0.2}},\"type\":\"histogram\"}],\"scattergl\":[{\"type\":\"scattergl\",\"marker\":{\"colorbar\":{\"outlinewidth\":0,\"ticks\":\"\"}}}],\"scatter3d\":[{\"type\":\"scatter3d\",\"line\":{\"colorbar\":{\"outlinewidth\":0,\"ticks\":\"\"}},\"marker\":{\"colorbar\":{\"outlinewidth\":0,\"ticks\":\"\"}}}],\"scattermap\":[{\"type\":\"scattermap\",\"marker\":{\"colorbar\":{\"outlinewidth\":0,\"ticks\":\"\"}}}],\"scattermapbox\":[{\"type\":\"scattermapbox\",\"marker\":{\"colorbar\":{\"outlinewidth\":0,\"ticks\":\"\"}}}],\"scatterternary\":[{\"type\":\"scatterternary\",\"marker\":{\"colorbar\":{\"outlinewidth\":0,\"ticks\":\"\"}}}],\"scattercarpet\":[{\"type\":\"scattercarpet\",\"marker\":{\"colorbar\":{\"outlinewidth\":0,\"ticks\":\"\"}}}],\"carpet\":[{\"aaxis\":{\"endlinecolor\":\"#2a3f5f\",\"gridcolor\":\"white\",\"linecolor\":\"white\",\"minorgridcolor\":\"white\",\"startlinecolor\":\"#2a3f5f\"},\"baxis\":{\"endlinecolor\":\"#2a3f5f\",\"gridcolor\":\"white\",\"linecolor\":\"white\",\"minorgridcolor\":\"white\",\"startlinecolor\":\"#2a3f5f\"},\"type\":\"carpet\"}],\"table\":[{\"cells\":{\"fill\":{\"color\":\"#EBF0F8\"},\"line\":{\"color\":\"white\"}},\"header\":{\"fill\":{\"color\":\"#C8D4E3\"},\"line\":{\"color\":\"white\"}},\"type\":\"table\"}],\"barpolar\":[{\"marker\":{\"line\":{\"color\":\"#E5ECF6\",\"width\":0.5},\"pattern\":{\"fillmode\":\"overlay\",\"size\":10,\"solidity\":0.2}},\"type\":\"barpolar\"}],\"pie\":[{\"automargin\":true,\"type\":\"pie\"}]},\"layout\":{\"autotypenumbers\":\"strict\",\"colorway\":[\"#636efa\",\"#EF553B\",\"#00cc96\",\"#ab63fa\",\"#FFA15A\",\"#19d3f3\",\"#FF6692\",\"#B6E880\",\"#FF97FF\",\"#FECB52\"],\"font\":{\"color\":\"#2a3f5f\"},\"hovermode\":\"closest\",\"hoverlabel\":{\"align\":\"left\"},\"paper_bgcolor\":\"white\",\"plot_bgcolor\":\"#E5ECF6\",\"polar\":{\"bgcolor\":\"#E5ECF6\",\"angularaxis\":{\"gridcolor\":\"white\",\"linecolor\":\"white\",\"ticks\":\"\"},\"radialaxis\":{\"gridcolor\":\"white\",\"linecolor\":\"white\",\"ticks\":\"\"}},\"ternary\":{\"bgcolor\":\"#E5ECF6\",\"aaxis\":{\"gridcolor\":\"white\",\"linecolor\":\"white\",\"ticks\":\"\"},\"baxis\":{\"gridcolor\":\"white\",\"linecolor\":\"white\",\"ticks\":\"\"},\"caxis\":{\"gridcolor\":\"white\",\"linecolor\":\"white\",\"ticks\":\"\"}},\"coloraxis\":{\"colorbar\":{\"outlinewidth\":0,\"ticks\":\"\"}},\"colorscale\":{\"sequential\":[[0.0,\"#0d0887\"],[0.1111111111111111,\"#46039f\"],[0.2222222222222222,\"#7201a8\"],[0.3333333333333333,\"#9c179e\"],[0.4444444444444444,\"#bd3786\"],[0.5555555555555556,\"#d8576b\"],[0.6666666666666666,\"#ed7953\"],[0.7777777777777778,\"#fb9f3a\"],[0.8888888888888888,\"#fdca26\"],[1.0,\"#f0f921\"]],\"sequentialminus\":[[0.0,\"#0d0887\"],[0.1111111111111111,\"#46039f\"],[0.2222222222222222,\"#7201a8\"],[0.3333333333333333,\"#9c179e\"],[0.4444444444444444,\"#bd3786\"],[0.5555555555555556,\"#d8576b\"],[0.6666666666666666,\"#ed7953\"],[0.7777777777777778,\"#fb9f3a\"],[0.8888888888888888,\"#fdca26\"],[1.0,\"#f0f921\"]],\"diverging\":[[0,\"#8e0152\"],[0.1,\"#c51b7d\"],[0.2,\"#de77ae\"],[0.3,\"#f1b6da\"],[0.4,\"#fde0ef\"],[0.5,\"#f7f7f7\"],[0.6,\"#e6f5d0\"],[0.7,\"#b8e186\"],[0.8,\"#7fbc41\"],[0.9,\"#4d9221\"],[1,\"#276419\"]]},\"xaxis\":{\"gridcolor\":\"white\",\"linecolor\":\"white\",\"ticks\":\"\",\"title\":{\"standoff\":15},\"zerolinecolor\":\"white\",\"automargin\":true,\"zerolinewidth\":2},\"yaxis\":{\"gridcolor\":\"white\",\"linecolor\":\"white\",\"ticks\":\"\",\"title\":{\"standoff\":15},\"zerolinecolor\":\"white\",\"automargin\":true,\"zerolinewidth\":2},\"scene\":{\"xaxis\":{\"backgroundcolor\":\"#E5ECF6\",\"gridcolor\":\"white\",\"linecolor\":\"white\",\"showbackground\":true,\"ticks\":\"\",\"zerolinecolor\":\"white\",\"gridwidth\":2},\"yaxis\":{\"backgroundcolor\":\"#E5ECF6\",\"gridcolor\":\"white\",\"linecolor\":\"white\",\"showbackground\":true,\"ticks\":\"\",\"zerolinecolor\":\"white\",\"gridwidth\":2},\"zaxis\":{\"backgroundcolor\":\"#E5ECF6\",\"gridcolor\":\"white\",\"linecolor\":\"white\",\"showbackground\":true,\"ticks\":\"\",\"zerolinecolor\":\"white\",\"gridwidth\":2}},\"shapedefaults\":{\"line\":{\"color\":\"#2a3f5f\"}},\"annotationdefaults\":{\"arrowcolor\":\"#2a3f5f\",\"arrowhead\":0,\"arrowwidth\":1},\"geo\":{\"bgcolor\":\"white\",\"landcolor\":\"#E5ECF6\",\"subunitcolor\":\"white\",\"showland\":true,\"showlakes\":true,\"lakecolor\":\"white\"},\"title\":{\"x\":0.05},\"mapbox\":{\"style\":\"light\"}}},\"title\":{\"font\":{\"size\":20},\"text\":\"\\u003cb\\u003ePer-Class Accuracy Comparison\\u003c\\u002fb\\u003e\",\"x\":0.5},\"xaxis\":{\"title\":{\"text\":\"Model\"},\"gridcolor\":\"lightgray\",\"tickangle\":45},\"yaxis\":{\"tickfont\":{\"color\":\"black\"},\"title\":{\"text\":\"Accuracy\"},\"range\":[0,1.05],\"gridcolor\":\"lightgray\"},\"legend\":{\"x\":1.05,\"y\":1.0,\"bgcolor\":\"rgba(255,255,255,0.5)\"},\"margin\":{\"b\":150},\"barmode\":\"group\",\"plot_bgcolor\":\"white\",\"hovermode\":\"x unified\",\"height\":600,\"shapes\":[{\"line\":{\"color\":\"orange\",\"dash\":\"dash\"},\"type\":\"line\",\"x0\":0,\"x1\":1,\"xref\":\"x domain\",\"y0\":0.8,\"y1\":0.8,\"yref\":\"y\"}],\"annotations\":[{\"showarrow\":false,\"text\":\"Threshold (0.8)\",\"x\":1,\"xanchor\":\"right\",\"xref\":\"x domain\",\"y\":0.8,\"yanchor\":\"top\",\"yref\":\"y\"}]},                        {\"responsive\": true}                    ).then(function(){\n",
       "                            \n",
       "var gd = document.getElementById('f91ff172-c4da-40bd-9492-58eb5660aef2');\n",
       "var x = new MutationObserver(function (mutations, observer) {{\n",
       "        var display = window.getComputedStyle(gd).display;\n",
       "        if (!display || display === 'none') {{\n",
       "            console.log([gd, 'removed!']);\n",
       "            Plotly.purge(gd);\n",
       "            observer.disconnect();\n",
       "        }}\n",
       "}});\n",
       "\n",
       "// Listen for the removal of the full notebook cells\n",
       "var notebookContainer = gd.closest('#notebook-container');\n",
       "if (notebookContainer) {{\n",
       "    x.observe(notebookContainer, {childList: true});\n",
       "}}\n",
       "\n",
       "// Listen for the clearing of the current output cell\n",
       "var outputEl = gd.closest('.output');\n",
       "if (outputEl) {{\n",
       "    x.observe(outputEl, {childList: true});\n",
       "}}\n",
       "\n",
       "                        })                };            </script>        </div>"
      ]
     },
     "metadata": {},
     "output_type": "display_data"
    },
    {
     "name": "stdout",
     "output_type": "stream",
     "text": [
      "\n",
      "Summary of Results:\n",
      "| Model              |   Accuracy |   F1 Score |   Precision |   Recall |\n",
      "|:-------------------|-----------:|-----------:|------------:|---------:|\n",
      "| SVM                |      0.986 |   0.986546 |    0.988013 |    0.986 |\n",
      "| KNN                |      0.985 |   0.98578  |    0.987967 |    0.985 |\n",
      "| RandomForest       |      0.998 |   0.998014 |    0.99806  |    0.998 |\n",
      "| ANN                |      0.984 |   0.984781 |    0.986811 |    0.984 |\n",
      "| DecisionTree       |      0.995 |   0.995086 |    0.995357 |    0.995 |\n",
      "| LogisticRegression |      0.889 |   0.910408 |    0.956854 |    0.889 |\n"
     ]
    }
   ],
   "source": [
    "import pandas as pd\n",
    "import numpy as np\n",
    "from sklearn.metrics import accuracy_score, f1_score, precision_score, recall_score, confusion_matrix\n",
    "from sklearn.svm import SVC\n",
    "from sklearn.neighbors import KNeighborsClassifier\n",
    "from sklearn.ensemble import RandomForestClassifier\n",
    "from sklearn.tree import DecisionTreeClassifier\n",
    "from sklearn.linear_model import LogisticRegression\n",
    "from sklearn.neural_network import MLPClassifier\n",
    "from sklearn.preprocessing import LabelEncoder\n",
    "from gensim.models import Word2Vec\n",
    "import nltk\n",
    "from nltk.tokenize import word_tokenize\n",
    "import plotly.offline as pyo\n",
    "import plotly.graph_objects as go\n",
    "from plotly.subplots import make_subplots\n",
    "import logging\n",
    "import os\n",
    "from datetime import datetime\n",
    "\n",
    "# Set up logging\n",
    "logging.basicConfig(level=logging.INFO, format='%(asctime)s - %(levelname)s - %(message)s')\n",
    "logger = logging.getLogger(__name__)\n",
    "\n",
    "# Initialize Plotly for offline rendering in VSCode\n",
    "pyo.init_notebook_mode(connected=True)\n",
    "\n",
    "# Ensure NLTK data is downloaded\n",
    "nltk.download('punkt', quiet=True)\n",
    "\n",
    "# 1. Load preprocessed data\n",
    "try:\n",
    "    train_df = pd.read_json('data/sampledatasets/messages-train.jsonl', lines=True)\n",
    "    test_df = pd.read_json('data/sampledatasets/messages-test.jsonl', lines=True)\n",
    "    logger.info(f\"Loaded {len(train_df)} training samples and {len(test_df)} test samples\")\n",
    "except FileNotFoundError as e:\n",
    "    logger.error(f\"Data file not found: {e}\")\n",
    "    raise\n",
    "except Exception as e:\n",
    "    logger.error(f\"Error loading data: {e}\")\n",
    "    raise\n",
    "\n",
    "# Verify data\n",
    "assert 'text' in train_df.columns and 'label' in train_df.columns, \"Train data must contain 'text' and 'label'\"\n",
    "assert 'text' in test_df.columns and 'label' in test_df.columns, \"Test data must contain 'text' and 'label'\"\n",
    "\n",
    "# 2. Label encoding\n",
    "label_encoder = LabelEncoder()\n",
    "train_df['label_id'] = label_encoder.fit_transform(train_df['label'])\n",
    "test_df['label_id'] = label_encoder.transform(test_df['label'])\n",
    "label_mapping = dict(zip(label_encoder.classes_, range(len(label_encoder.classes_))))\n",
    "logger.info(f\"Label mapping: {label_mapping}\")\n",
    "\n",
    "# 3. Text preprocessing for Word2Vec\n",
    "def preprocess_text(text):\n",
    "    try:\n",
    "        tokens = word_tokenize(text.lower())\n",
    "        tokens = [t for t in tokens if t.isalpha()]\n",
    "        return tokens\n",
    "    except Exception as e:\n",
    "        logger.warning(f\"Error preprocessing text: {e}\")\n",
    "        return []\n",
    "\n",
    "train_df['tokens'] = train_df['text'].apply(preprocess_text)\n",
    "test_df['tokens'] = test_df['text'].apply(preprocess_text)\n",
    "\n",
    "# 4. Train Word2Vec model\n",
    "try:\n",
    "    all_tokens = train_df['tokens'].tolist() + test_df['tokens'].tolist()\n",
    "    word2vec = Word2Vec(sentences=all_tokens, vector_size=100, window=5, min_count=1, workers=4, sg=1)\n",
    "    logger.info(\"Word2Vec model trained successfully\")\n",
    "except Exception as e:\n",
    "    logger.error(f\"Error training Word2Vec: {e}\")\n",
    "    raise\n",
    "\n",
    "# Function to get sentence embedding\n",
    "def get_sentence_embedding(tokens, model, vector_size=100):\n",
    "    vectors = [model.wv[word] for word in tokens if word in model.wv]\n",
    "    return np.mean(vectors, axis=0) if vectors else np.zeros(vector_size)\n",
    "\n",
    "train_df['embedding'] = train_df['tokens'].apply(lambda x: get_sentence_embedding(x, word2vec))\n",
    "test_df['embedding'] = test_df['tokens'].apply(lambda x: get_sentence_embedding(x, word2vec))\n",
    "\n",
    "# Convert embeddings to feature matrix\n",
    "try:\n",
    "    X_train = np.stack(train_df['embedding'].values)\n",
    "    y_train = train_df['label_id'].values\n",
    "    X_test = np.stack(test_df['embedding'].values)\n",
    "    y_test = test_df['label_id'].values\n",
    "    logger.info(f\"Training features shape: {X_train.shape}, Test features shape: {X_test.shape}\")\n",
    "except Exception as e:\n",
    "    logger.error(f\"Error creating feature matrices: {e}\")\n",
    "    raise\n",
    "\n",
    "# 5. Define models\n",
    "models = {\n",
    "    'SVM': SVC(kernel='linear', class_weight='balanced', random_state=42),\n",
    "    'KNN': KNeighborsClassifier(n_neighbors=5),\n",
    "    'RandomForest': RandomForestClassifier(n_estimators=100, class_weight='balanced', random_state=42),\n",
    "    'ANN': MLPClassifier(hidden_layer_sizes=(100,), max_iter=500, random_state=42),\n",
    "    'DecisionTree': DecisionTreeClassifier(class_weight='balanced', random_state=42),\n",
    "    'LogisticRegression': LogisticRegression(class_weight='balanced', max_iter=1000, random_state=42)\n",
    "}\n",
    "\n",
    "# 6. Train and evaluate models\n",
    "results = {}\n",
    "per_class_accuracies = {}\n",
    "for name, model in models.items():\n",
    "    logger.info(f\"Training {name}...\")\n",
    "    try:\n",
    "        model.fit(X_train, y_train)\n",
    "        y_pred = model.predict(X_test)\n",
    "        \n",
    "        # Compute metrics\n",
    "        accuracy = accuracy_score(y_test, y_pred)\n",
    "        f1 = f1_score(y_test, y_pred, average='weighted', zero_division=0)\n",
    "        precision = precision_score(y_test, y_pred, average='weighted', zero_division=0)\n",
    "        recall = recall_score(y_test, y_pred, average='weighted', zero_division=0)\n",
    "        cm = confusion_matrix(y_test, y_pred)\n",
    "        \n",
    "        # Compute per-class accuracy\n",
    "        class_acc = {}\n",
    "        for i, label in enumerate(label_encoder.classes_):\n",
    "            mask = y_test == i\n",
    "            if mask.sum() > 0:\n",
    "                class_acc[label] = accuracy_score(y_test[mask], y_pred[mask])\n",
    "            else:\n",
    "                class_acc[label] = 0.0\n",
    "        \n",
    "        # Store results\n",
    "        results[name] = {\n",
    "            'accuracy': accuracy,\n",
    "            'f1': f1,\n",
    "            'precision': precision,\n",
    "            'recall': recall,\n",
    "            'confusion_matrix': cm\n",
    "        }\n",
    "        per_class_accuracies[name] = class_acc\n",
    "        \n",
    "        # Print results\n",
    "        print(f\"\\n{name} Results:\")\n",
    "        print(f\"Accuracy: {accuracy:.4f}\")\n",
    "        print(f\"F1 Score: {f1:.4f}\")\n",
    "        print(f\"Precision: {precision:.4f}\")\n",
    "        print(f\"Recall: {recall:.4f}\")\n",
    "        print(\"Confusion Matrix:\")\n",
    "        print(cm)\n",
    "        print(f\"Per-class accuracy for {name}:\")\n",
    "        for label, acc in class_acc.items():\n",
    "            print(f\"{label} accuracy: {acc:.4f}\")\n",
    "    except Exception as e:\n",
    "        logger.error(f\"Error training/evaluating {name}: {e}\")\n",
    "        continue\n",
    "\n",
    "# 7. Plotly Visualization Functions\n",
    "def plot_model_metrics(results):\n",
    "    model_names = list(results.keys())\n",
    "    metrics = ['accuracy', 'f1', 'precision', 'recall']\n",
    "    metric_names = ['Accuracy', 'F1 Score', 'Precision', 'Recall']\n",
    "    colors = ['royalblue', 'firebrick', 'forestgreen', 'goldenrod']\n",
    "    \n",
    "    fig = go.Figure()\n",
    "    for i, metric in enumerate(metrics):\n",
    "        values = [results[model][metric] for model in model_names]\n",
    "        fig.add_trace(go.Bar(\n",
    "            x=model_names,\n",
    "            y=values,\n",
    "            name=metric_names[i],\n",
    "            marker_color=colors[i],\n",
    "            opacity=0.8,\n",
    "            width=0.2,\n",
    "            offset=i * 0.2 - 0.3,\n",
    "            hovertemplate=f\"{metric_names[i]}: %{{y:.4f}}<extra></extra>\"\n",
    "        ))\n",
    "    \n",
    "    fig.update_layout(\n",
    "        title=dict(text=\"<b>Model Performance Comparison</b>\", x=0.5, font=dict(size=20)),\n",
    "        xaxis=dict(title=\"Model\", gridcolor='lightgray', tickangle=45),\n",
    "        yaxis=dict(title=\"Score\", range=[0, 1.05], gridcolor='lightgray', tickfont=dict(color='black')),\n",
    "        barmode='group',\n",
    "        plot_bgcolor='white',\n",
    "        hovermode=\"x unified\",\n",
    "        height=600,\n",
    "        legend=dict(x=1.05, y=1.0, bgcolor='rgba(255,255,255,0.5)'),\n",
    "        margin=dict(b=150)\n",
    "    )\n",
    "    fig.add_hline(y=0.8, line_dash=\"dash\", line_color=\"orange\", \n",
    "                  annotation_text=\"Threshold (0.8)\", annotation_position=\"bottom right\")\n",
    "    fig.show()\n",
    "\n",
    "def plot_confusion_matrices(results, label_classes):\n",
    "    fig = go.Figure()\n",
    "    for i, (name, result) in enumerate(results.items()):\n",
    "        cm = result['confusion_matrix']\n",
    "        fig.add_trace(go.Heatmap(\n",
    "            z=cm,\n",
    "            x=label_classes,\n",
    "            y=label_classes,\n",
    "            text=cm,\n",
    "            texttemplate=\"%{text}\",\n",
    "            colorscale='Blues',\n",
    "            hovertemplate='True: %{y}<br>Predicted: %{x}<br>Count: %{z}<extra></extra>',\n",
    "            visible=(i == 0),  # Only first model visible initially\n",
    "            name=name\n",
    "        ))\n",
    "    \n",
    "    buttons = [\n",
    "        dict(label=name, method=\"update\", args=[{\"visible\": [i == j for j in range(len(results))]}], args2=[{\"title\": f\"<b>Confusion Matrix - {name}</b>\"}])\n",
    "        for i, name in enumerate(results.keys())\n",
    "    ]\n",
    "    \n",
    "    fig.update_layout(\n",
    "        title=dict(text=f\"<b>Confusion Matrix - {list(results.keys())[0]}</b>\", x=0.5, font=dict(size=20)),\n",
    "        xaxis=dict(title=\"Predicted Label\", gridcolor='lightgray'),\n",
    "        yaxis=dict(title=\"True Label\", gridcolor='lightgray'),\n",
    "        updatemenus=[dict(\n",
    "            type=\"dropdown\",\n",
    "            buttons=buttons,\n",
    "            x=1.05,\n",
    "            y=1.1,\n",
    "            showactive=True\n",
    "        )],\n",
    "        plot_bgcolor='white',\n",
    "        height=500,\n",
    "        width=500\n",
    "    )\n",
    "    fig.show()\n",
    "\n",
    "def plot_per_class_accuracy(per_class_accuracies, label_classes):\n",
    "    model_names = list(per_class_accuracies.keys())\n",
    "    fig = go.Figure()\n",
    "    colors = ['royalblue', 'firebrick', 'forestgreen']\n",
    "    \n",
    "    for i, label in enumerate(label_classes):\n",
    "        values = [per_class_accuracies[model][label] for model in model_names]\n",
    "        fig.add_trace(go.Bar(\n",
    "            x=model_names,\n",
    "            y=values,\n",
    "            name=label,\n",
    "            marker_color=colors[i % len(colors)],\n",
    "            opacity=0.8,\n",
    "            width=0.15,\n",
    "            offset=i * 0.15 - 0.225,\n",
    "            hovertemplate=f\"{label} Accuracy: %{{y:.4f}}<extra></extra>\"\n",
    "        ))\n",
    "    \n",
    "    fig.update_layout(\n",
    "        title=dict(text=\"<b>Per-Class Accuracy Comparison</b>\", x=0.5, font=dict(size=20)),\n",
    "        xaxis=dict(title=\"Model\", gridcolor='lightgray', tickangle=45),\n",
    "        yaxis=dict(title=\"Accuracy\", range=[0, 1.05], gridcolor='lightgray', tickfont=dict(color='black')),\n",
    "        barmode='group',\n",
    "        plot_bgcolor='white',\n",
    "        hovermode=\"x unified\",\n",
    "        height=600,\n",
    "        legend=dict(x=1.05, y=1.0, bgcolor='rgba(255,255,255,0.5)'),\n",
    "        margin=dict(b=150)\n",
    "    )\n",
    "    fig.add_hline(y=0.8, line_dash=\"dash\", line_color=\"orange\", \n",
    "                  annotation_text=\"Threshold (0.8)\", annotation_position=\"bottom right\")\n",
    "    fig.show()\n",
    "\n",
    "# 8. Generate Plots\n",
    "logger.info(\"Generating Plotly Visualizations...\")\n",
    "try:\n",
    "    plot_model_metrics(results)\n",
    "    plot_confusion_matrices(results, label_encoder.classes_)\n",
    "    plot_per_class_accuracy(per_class_accuracies, label_encoder.classes_)\n",
    "except Exception as e:\n",
    "    logger.error(f\"Error generating visualizations: {e}\")\n",
    "\n",
    "# 9. Summary of Results\n",
    "print(\"\\nSummary of Results:\")\n",
    "summary_df = pd.DataFrame({\n",
    "    'Model': results.keys(),\n",
    "    'Accuracy': [results[m]['accuracy'] for m in results],\n",
    "    'F1 Score': [results[m]['f1'] for m in results],\n",
    "    'Precision': [results[m]['precision'] for m in results],\n",
    "    'Recall': [results[m]['recall'] for m in results]\n",
    "})\n",
    "print(summary_df.to_markdown(index=False))\n",
    "\n",
    "\n",
    "torch.clear_autocast_cache()"
   ]
  }
 ],
 "metadata": {
  "kernelspec": {
   "display_name": "Qwen3DevOps",
   "language": "python",
   "name": "python3"
  },
  "language_info": {
   "codemirror_mode": {
    "name": "ipython",
    "version": 3
   },
   "file_extension": ".py",
   "mimetype": "text/x-python",
   "name": "python",
   "nbconvert_exporter": "python",
   "pygments_lexer": "ipython3",
   "version": "3.12.10"
  }
 },
 "nbformat": 4,
 "nbformat_minor": 5
}
